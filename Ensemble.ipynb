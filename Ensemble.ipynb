{
 "cells": [
  {
   "cell_type": "markdown",
   "metadata": {},
   "source": [
    "# IMPORT DEPENDENCY"
   ]
  },
  {
   "cell_type": "code",
   "execution_count": 1,
   "metadata": {},
   "outputs": [],
   "source": [
    "import pandas as pd"
   ]
  },
  {
   "cell_type": "code",
   "execution_count": 2,
   "metadata": {},
   "outputs": [],
   "source": [
    "input_path ='/Users/DELL/Desktop/Code Review/2015Flood/'\n",
    "save_path = '/Users/DELL/Desktop/Code Review/2015Flood/Ensemble_csv/'"
   ]
  },
  {
   "cell_type": "code",
   "execution_count": 3,
   "metadata": {},
   "outputs": [],
   "source": [
    "MODEL_C = 'MODELC-0.07677.csv'\n",
    "MODEL_F = 'MODELF.csv'\n",
    "MODEL_G = 'MODELG.csv'\n",
    "MODEL_H = 'MODELH.csv'"
   ]
  },
  {
   "cell_type": "code",
   "execution_count": 4,
   "metadata": {},
   "outputs": [],
   "source": [
    "MODEL__C = pd.read_csv(input_path + MODEL_C)\n",
    "MODEL__F = pd.read_csv(input_path + MODEL_F)\n",
    "MODEL__G = pd.read_csv(input_path + MODEL_G)\n",
    "MODEL__H = pd.read_csv(input_path + MODEL_H)"
   ]
  },
  {
   "cell_type": "markdown",
   "metadata": {},
   "source": [
    "# BLENDING"
   ]
  },
  {
   "cell_type": "code",
   "execution_count": 5,
   "metadata": {},
   "outputs": [],
   "source": [
    "#best blend on the leadrboard best so far till date - tune 90 -10 to eithysomthing\n",
    "MODEL__C['target_2015'] = ((MODEL__C['target_2015'] * 0.80 + MODEL__G['target_2015'] * 0.20) * 0.90 + MODEL__F['target_2015']*0.10) *0.85 +MODEL__H['target_2015']*0.15"
   ]
  },
  {
   "cell_type": "code",
   "execution_count": 6,
   "metadata": {},
   "outputs": [],
   "source": [
    "file_name2='blending_004.csv'\n",
    "MODEL__C.to_csv(save_path + file_name2, index=False)"
   ]
  },
  {
   "cell_type": "code",
   "execution_count": null,
   "metadata": {},
   "outputs": [],
   "source": []
  }
 ],
 "metadata": {
  "kernelspec": {
   "display_name": "Python 3",
   "language": "python",
   "name": "python3"
  },
  "language_info": {
   "codemirror_mode": {
    "name": "ipython",
    "version": 3
   },
   "file_extension": ".py",
   "mimetype": "text/x-python",
   "name": "python",
   "nbconvert_exporter": "python",
   "pygments_lexer": "ipython3",
   "version": "3.7.4"
  }
 },
 "nbformat": 4,
 "nbformat_minor": 2
}
