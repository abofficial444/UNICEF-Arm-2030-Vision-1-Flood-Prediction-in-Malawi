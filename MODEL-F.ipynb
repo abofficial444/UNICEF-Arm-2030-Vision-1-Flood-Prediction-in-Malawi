{
 "cells": [
  {
   "cell_type": "markdown",
   "metadata": {},
   "source": [
    "# IMPORT DEPENDENCIES"
   ]
  },
  {
   "cell_type": "code",
   "execution_count": 1,
   "metadata": {},
   "outputs": [],
   "source": [
    "import pandas as pd\n",
    "import numpy as np\n",
    "import seaborn as sns\n",
    "import matplotlib.pyplot as plt\n",
    "from lightgbm import LGBMRegressor\n",
    "from sklearn.linear_model import LinearRegression\n",
    "from sklearn.metrics import mean_squared_error\n",
    "from catboost import CatBoostRegressor\n",
    "from sklearn.cluster import KMeans\n",
    "import os\n",
    "import rasterio as rio\n",
    "import rasterstats as rs\n",
    "import earthpy as et\n",
    "import earthpy.plot as ep\n",
    "from tqdm import tqdm\n",
    "import geopandas as gpd\n",
    "from catboost import CatBoostClassifier\n",
    "from sklearn.metrics import accuracy_score,confusion_matrix,roc_auc_score,log_loss\n",
    "from lightgbm import LGBMClassifier\n",
    "from sklearn.model_selection import cross_val_score, train_test_split, KFold, RepeatedStratifiedKFold\n",
    "import math\n",
    "import gc\n",
    "import warnings\n",
    "warnings.filterwarnings('ignore')"
   ]
  },
  {
   "cell_type": "code",
   "execution_count": 2,
   "metadata": {},
   "outputs": [],
   "source": [
    "samp = pd.read_csv(r'C:\\Users\\DELL\\Desktop\\Hackhathons\\flood\\SampleSubmission.csv')\n",
    "df = pd.read_csv(r'C:\\Users\\DELL\\Desktop\\Hackhathons\\flood\\Train.csv')\n",
    "pts = gpd.GeoDataFrame(df, geometry = gpd.points_from_xy(df.X, df.Y))\n",
    "pts.to_file(r'C:\\Users\\DELL\\Desktop\\externaldata\\points.shp')\n",
    "# Load wetlands data\n",
    "wetlands = gpd.read_file(r'C:\\Users\\DELL\\Desktop\\externaldata\\wetlands\\wetlands_100.shp')"
   ]
  },
  {
   "cell_type": "code",
   "execution_count": 3,
   "metadata": {},
   "outputs": [],
   "source": [
    "malawi_TPI_data_path = os.path.join(r\"C:\\Users\\DELL\\Desktop\\externaldata\\TPI\\TPI_malawi.tif\")\n",
    "\n",
    "\n",
    "with rio.open(malawi_TPI_data_path) as malawi_TPI_data:\n",
    "    malawi_TPI_data_data = malawi_TPI_data.read(1, masked=True)\n",
    "    malawi_TPI_data_meta = malawi_TPI_data.profile"
   ]
  },
  {
   "cell_type": "code",
   "execution_count": 4,
   "metadata": {},
   "outputs": [
    {
     "data": {
      "text/plain": [
       "{'driver': 'GTiff', 'dtype': 'int32', 'nodata': None, 'width': 696, 'height': 924, 'count': 1, 'crs': CRS.from_dict(init='epsg:4326'), 'transform': Affine(0.008983152841195215, 0.0, 31.014245352698083,\n",
       "       0.0, -0.008983152841195215, -9.059779134930608), 'blockxsize': 256, 'blockysize': 256, 'tiled': True, 'compress': 'lzw', 'interleave': 'band'}"
      ]
     },
     "execution_count": 4,
     "metadata": {},
     "output_type": "execute_result"
    }
   ],
   "source": [
    "malawi_TPI_data_meta"
   ]
  },
  {
   "cell_type": "code",
   "execution_count": 5,
   "metadata": {},
   "outputs": [
    {
     "data": {
      "text/plain": [
       "list"
      ]
     },
     "execution_count": 5,
     "metadata": {},
     "output_type": "execute_result"
    }
   ],
   "source": [
    "# Extract zonal stats\n",
    "TPI = rs.zonal_stats(pts,\n",
    "                         malawi_TPI_data_data,\n",
    "                         nodata=-999,\n",
    "                         affine=malawi_TPI_data_meta['transform'],\n",
    "                         geojson_out=True,\n",
    "                         copy_properties=True,\n",
    "                         stats='majority')\n",
    "type(TPI)"
   ]
  },
  {
   "cell_type": "markdown",
   "metadata": {},
   "source": [
    "## Comments: \n",
    "## Topographic position index greater than 0 is ridge\n",
    "## Topographic position index less than 0 is valley\n",
    "## Topographic position equal to 0 is flat"
   ]
  },
  {
   "cell_type": "code",
   "execution_count": 6,
   "metadata": {},
   "outputs": [
    {
     "data": {
      "text/html": [
       "<div>\n",
       "<style scoped>\n",
       "    .dataframe tbody tr th:only-of-type {\n",
       "        vertical-align: middle;\n",
       "    }\n",
       "\n",
       "    .dataframe tbody tr th {\n",
       "        vertical-align: top;\n",
       "    }\n",
       "\n",
       "    .dataframe thead th {\n",
       "        text-align: right;\n",
       "    }\n",
       "</style>\n",
       "<table border=\"1\" class=\"dataframe\">\n",
       "  <thead>\n",
       "    <tr style=\"text-align: right;\">\n",
       "      <th></th>\n",
       "      <th>geometry</th>\n",
       "      <th>LC_Type1_mode</th>\n",
       "      <th>Square_ID</th>\n",
       "      <th>X</th>\n",
       "      <th>Y</th>\n",
       "      <th>elevation</th>\n",
       "      <th>precip 2014-11-16 - 2014-11-23</th>\n",
       "      <th>precip 2014-11-23 - 2014-11-30</th>\n",
       "      <th>precip 2014-11-30 - 2014-12-07</th>\n",
       "      <th>precip 2014-12-07 - 2014-12-14</th>\n",
       "      <th>...</th>\n",
       "      <th>precip 2019-03-24 - 2019-03-31</th>\n",
       "      <th>precip 2019-03-31 - 2019-04-07</th>\n",
       "      <th>precip 2019-04-07 - 2019-04-14</th>\n",
       "      <th>precip 2019-04-14 - 2019-04-21</th>\n",
       "      <th>precip 2019-04-21 - 2019-04-28</th>\n",
       "      <th>precip 2019-04-28 - 2019-05-05</th>\n",
       "      <th>precip 2019-05-05 - 2019-05-12</th>\n",
       "      <th>precip 2019-05-12 - 2019-05-19</th>\n",
       "      <th>target_2015</th>\n",
       "      <th>majority</th>\n",
       "    </tr>\n",
       "  </thead>\n",
       "  <tbody>\n",
       "    <tr>\n",
       "      <td>0</td>\n",
       "      <td>POINT (34.26000 -15.91000)</td>\n",
       "      <td>9</td>\n",
       "      <td>4e3c3896-14ce-11ea-bce5-f49634744a41</td>\n",
       "      <td>34.26</td>\n",
       "      <td>-15.91</td>\n",
       "      <td>887.764222</td>\n",
       "      <td>0.0</td>\n",
       "      <td>0.0</td>\n",
       "      <td>0.0</td>\n",
       "      <td>14.844025</td>\n",
       "      <td>...</td>\n",
       "      <td>0.896323</td>\n",
       "      <td>1.68</td>\n",
       "      <td>0.0</td>\n",
       "      <td>0.0</td>\n",
       "      <td>0.0</td>\n",
       "      <td>0.0</td>\n",
       "      <td>0.0</td>\n",
       "      <td>0.0</td>\n",
       "      <td>0.0</td>\n",
       "      <td>57.0</td>\n",
       "    </tr>\n",
       "    <tr>\n",
       "      <td>1</td>\n",
       "      <td>POINT (34.26000 -15.90000)</td>\n",
       "      <td>9</td>\n",
       "      <td>4e3c3897-14ce-11ea-bce5-f49634744a41</td>\n",
       "      <td>34.26</td>\n",
       "      <td>-15.90</td>\n",
       "      <td>743.403912</td>\n",
       "      <td>0.0</td>\n",
       "      <td>0.0</td>\n",
       "      <td>0.0</td>\n",
       "      <td>14.844025</td>\n",
       "      <td>...</td>\n",
       "      <td>0.896323</td>\n",
       "      <td>1.68</td>\n",
       "      <td>0.0</td>\n",
       "      <td>0.0</td>\n",
       "      <td>0.0</td>\n",
       "      <td>0.0</td>\n",
       "      <td>0.0</td>\n",
       "      <td>0.0</td>\n",
       "      <td>0.0</td>\n",
       "      <td>112.0</td>\n",
       "    </tr>\n",
       "    <tr>\n",
       "      <td>2</td>\n",
       "      <td>POINT (34.26000 -15.89000)</td>\n",
       "      <td>9</td>\n",
       "      <td>4e3c3898-14ce-11ea-bce5-f49634744a41</td>\n",
       "      <td>34.26</td>\n",
       "      <td>-15.89</td>\n",
       "      <td>565.728343</td>\n",
       "      <td>0.0</td>\n",
       "      <td>0.0</td>\n",
       "      <td>0.0</td>\n",
       "      <td>14.844025</td>\n",
       "      <td>...</td>\n",
       "      <td>0.896323</td>\n",
       "      <td>1.68</td>\n",
       "      <td>0.0</td>\n",
       "      <td>0.0</td>\n",
       "      <td>0.0</td>\n",
       "      <td>0.0</td>\n",
       "      <td>0.0</td>\n",
       "      <td>0.0</td>\n",
       "      <td>0.0</td>\n",
       "      <td>0.0</td>\n",
       "    </tr>\n",
       "  </tbody>\n",
       "</table>\n",
       "<p>3 rows × 42 columns</p>\n",
       "</div>"
      ],
      "text/plain": [
       "                     geometry  LC_Type1_mode  \\\n",
       "0  POINT (34.26000 -15.91000)              9   \n",
       "1  POINT (34.26000 -15.90000)              9   \n",
       "2  POINT (34.26000 -15.89000)              9   \n",
       "\n",
       "                              Square_ID      X      Y   elevation  \\\n",
       "0  4e3c3896-14ce-11ea-bce5-f49634744a41  34.26 -15.91  887.764222   \n",
       "1  4e3c3897-14ce-11ea-bce5-f49634744a41  34.26 -15.90  743.403912   \n",
       "2  4e3c3898-14ce-11ea-bce5-f49634744a41  34.26 -15.89  565.728343   \n",
       "\n",
       "   precip 2014-11-16 - 2014-11-23  precip 2014-11-23 - 2014-11-30  \\\n",
       "0                             0.0                             0.0   \n",
       "1                             0.0                             0.0   \n",
       "2                             0.0                             0.0   \n",
       "\n",
       "   precip 2014-11-30 - 2014-12-07  precip 2014-12-07 - 2014-12-14  ...  \\\n",
       "0                             0.0                       14.844025  ...   \n",
       "1                             0.0                       14.844025  ...   \n",
       "2                             0.0                       14.844025  ...   \n",
       "\n",
       "   precip 2019-03-24 - 2019-03-31  precip 2019-03-31 - 2019-04-07  \\\n",
       "0                        0.896323                            1.68   \n",
       "1                        0.896323                            1.68   \n",
       "2                        0.896323                            1.68   \n",
       "\n",
       "   precip 2019-04-07 - 2019-04-14  precip 2019-04-14 - 2019-04-21  \\\n",
       "0                             0.0                             0.0   \n",
       "1                             0.0                             0.0   \n",
       "2                             0.0                             0.0   \n",
       "\n",
       "   precip 2019-04-21 - 2019-04-28  precip 2019-04-28 - 2019-05-05  \\\n",
       "0                             0.0                             0.0   \n",
       "1                             0.0                             0.0   \n",
       "2                             0.0                             0.0   \n",
       "\n",
       "   precip 2019-05-05 - 2019-05-12  precip 2019-05-12 - 2019-05-19  \\\n",
       "0                             0.0                             0.0   \n",
       "1                             0.0                             0.0   \n",
       "2                             0.0                             0.0   \n",
       "\n",
       "   target_2015  majority  \n",
       "0          0.0      57.0  \n",
       "1          0.0     112.0  \n",
       "2          0.0       0.0  \n",
       "\n",
       "[3 rows x 42 columns]"
      ]
     },
     "execution_count": 6,
     "metadata": {},
     "output_type": "execute_result"
    }
   ],
   "source": [
    "TPI_data = gpd.GeoDataFrame.from_features(TPI)\n",
    "TPI_data.head(3)"
   ]
  },
  {
   "cell_type": "code",
   "execution_count": 7,
   "metadata": {},
   "outputs": [],
   "source": [
    "df[\"Typographic_position_index\"] =TPI_data[\"majority\"]"
   ]
  },
  {
   "cell_type": "code",
   "execution_count": 8,
   "metadata": {},
   "outputs": [
    {
     "data": {
      "text/plain": [
       "<matplotlib.collections.PathCollection at 0x1bb04589088>"
      ]
     },
     "execution_count": 8,
     "metadata": {},
     "output_type": "execute_result"
    },
    {
     "data": {
      "image/png": "[encoded data removed]",
      "text/plain": [
       "<Figure size 432x288 with 1 Axes>"
      ]
     },
     "metadata": {
      "needs_background": "light"
     },
     "output_type": "display_data"
    }
   ],
   "source": [
    "plt.scatter(TPI_data[\"majority\"],TPI_data[\"target_2015\"])"
   ]
  },
  {
   "cell_type": "code",
   "execution_count": 9,
   "metadata": {},
   "outputs": [
    {
     "data": {
      "text/plain": [
       "(16466, 42)"
      ]
     },
     "execution_count": 9,
     "metadata": {},
     "output_type": "execute_result"
    }
   ],
   "source": [
    "pts.shape"
   ]
  },
  {
   "cell_type": "code",
   "execution_count": 10,
   "metadata": {},
   "outputs": [
    {
     "data": {
      "text/html": [
       "<div>\n",
       "<style scoped>\n",
       "    .dataframe tbody tr th:only-of-type {\n",
       "        vertical-align: middle;\n",
       "    }\n",
       "\n",
       "    .dataframe tbody tr th {\n",
       "        vertical-align: top;\n",
       "    }\n",
       "\n",
       "    .dataframe thead th {\n",
       "        text-align: right;\n",
       "    }\n",
       "</style>\n",
       "<table border=\"1\" class=\"dataframe\">\n",
       "  <thead>\n",
       "    <tr style=\"text-align: right;\">\n",
       "      <th></th>\n",
       "      <th>fid</th>\n",
       "      <th>AREA_METER</th>\n",
       "      <th>PERIMETER_</th>\n",
       "      <th>MW_WETLAND</th>\n",
       "      <th>MW_WETLA_1</th>\n",
       "      <th>MW_WETLA_2</th>\n",
       "      <th>ACRES</th>\n",
       "      <th>HECTARES</th>\n",
       "      <th>geometry</th>\n",
       "    </tr>\n",
       "  </thead>\n",
       "  <tbody>\n",
       "    <tr>\n",
       "      <td>0</td>\n",
       "      <td>1</td>\n",
       "      <td>2029147.125</td>\n",
       "      <td>10289.760</td>\n",
       "      <td>2.0</td>\n",
       "      <td>1.0</td>\n",
       "      <td>2.0</td>\n",
       "      <td>501.411</td>\n",
       "      <td>202.915</td>\n",
       "      <td>POLYGON ((33.02261 -9.49706, 33.02220 -9.49698...</td>\n",
       "    </tr>\n",
       "    <tr>\n",
       "      <td>1</td>\n",
       "      <td>2</td>\n",
       "      <td>1400282.125</td>\n",
       "      <td>5610.786</td>\n",
       "      <td>4.0</td>\n",
       "      <td>3.0</td>\n",
       "      <td>4.0</td>\n",
       "      <td>346.016</td>\n",
       "      <td>140.028</td>\n",
       "      <td>POLYGON ((33.14564 -9.49550, 33.14519 -9.49544...</td>\n",
       "    </tr>\n",
       "    <tr>\n",
       "      <td>2</td>\n",
       "      <td>3</td>\n",
       "      <td>1206303.875</td>\n",
       "      <td>8107.262</td>\n",
       "      <td>15.0</td>\n",
       "      <td>14.0</td>\n",
       "      <td>15.0</td>\n",
       "      <td>298.083</td>\n",
       "      <td>120.630</td>\n",
       "      <td>POLYGON ((33.25196 -9.61700, 33.25134 -9.61693...</td>\n",
       "    </tr>\n",
       "    <tr>\n",
       "      <td>3</td>\n",
       "      <td>4</td>\n",
       "      <td>1576612.500</td>\n",
       "      <td>9315.478</td>\n",
       "      <td>9.0</td>\n",
       "      <td>8.0</td>\n",
       "      <td>9.0</td>\n",
       "      <td>389.588</td>\n",
       "      <td>157.661</td>\n",
       "      <td>POLYGON ((33.17747 -9.59722, 33.17708 -9.59662...</td>\n",
       "    </tr>\n",
       "    <tr>\n",
       "      <td>4</td>\n",
       "      <td>5</td>\n",
       "      <td>1691864.125</td>\n",
       "      <td>8714.254</td>\n",
       "      <td>14.0</td>\n",
       "      <td>13.0</td>\n",
       "      <td>14.0</td>\n",
       "      <td>418.067</td>\n",
       "      <td>169.186</td>\n",
       "      <td>POLYGON ((33.06316 -9.62432, 33.06232 -9.62420...</td>\n",
       "    </tr>\n",
       "  </tbody>\n",
       "</table>\n",
       "</div>"
      ],
      "text/plain": [
       "   fid   AREA_METER  PERIMETER_  MW_WETLAND  MW_WETLA_1  MW_WETLA_2    ACRES  \\\n",
       "0    1  2029147.125   10289.760         2.0         1.0         2.0  501.411   \n",
       "1    2  1400282.125    5610.786         4.0         3.0         4.0  346.016   \n",
       "2    3  1206303.875    8107.262        15.0        14.0        15.0  298.083   \n",
       "3    4  1576612.500    9315.478         9.0         8.0         9.0  389.588   \n",
       "4    5  1691864.125    8714.254        14.0        13.0        14.0  418.067   \n",
       "\n",
       "   HECTARES                                           geometry  \n",
       "0   202.915  POLYGON ((33.02261 -9.49706, 33.02220 -9.49698...  \n",
       "1   140.028  POLYGON ((33.14564 -9.49550, 33.14519 -9.49544...  \n",
       "2   120.630  POLYGON ((33.25196 -9.61700, 33.25134 -9.61693...  \n",
       "3   157.661  POLYGON ((33.17747 -9.59722, 33.17708 -9.59662...  \n",
       "4   169.186  POLYGON ((33.06316 -9.62432, 33.06232 -9.62420...  "
      ]
     },
     "execution_count": 10,
     "metadata": {},
     "output_type": "execute_result"
    }
   ],
   "source": [
    "wetlands.head()"
   ]
  },
  {
   "cell_type": "code",
   "execution_count": 11,
   "metadata": {},
   "outputs": [
    {
     "data": {
      "text/plain": [
       "Text(0.5, 0.98, 'WETLANDS')"
      ]
     },
     "execution_count": 11,
     "metadata": {},
     "output_type": "execute_result"
    },
    {
     "data": {
      "image/png": "[encoded data removed]",
      "text/plain": [
       "<Figure size 576x1440 with 1 Axes>"
      ]
     },
     "metadata": {
      "needs_background": "light"
     },
     "output_type": "display_data"
    }
   ],
   "source": [
    "f, ax = plt.subplots(1, figsize=(8, 20))\n",
    "ax = wetlands.plot(axes=ax,alpha=6)\n",
    "f.suptitle('WETLANDS')"
   ]
  },
  {
   "cell_type": "code",
   "execution_count": 12,
   "metadata": {},
   "outputs": [
    {
     "data": {
      "image/svg+xml": [
       "<svg xmlns=\"http://www.w3.org/2000/svg\" xmlns:xlink=\"http://www.w3.org/1999/xlink\" width=\"100.0\" height=\"100.0\" viewBox=\"32.99686856904719 -9.498151324442535 0.029363002745910194 0.0238186812627319\" preserveAspectRatio=\"xMinYMin meet\"><g transform=\"matrix(1,0,0,-1,0,-18.97248396762234)\"><path fill-rule=\"evenodd\" fill=\"#66cc99\" stroke=\"#555555\" stroke-width=\"0.0005872600549182039\" opacity=\"0.6\" d=\"M 33.02261499976002,-9.497063805822316 L 33.022200737830424,-9.496982428801536 L 33.02202162771076,-9.49657542232194 L 33.02194017127115,-9.496123185427304 L 33.021893165694294,-9.495679991187895 L 33.02185982579378,-9.495227751236246 L 33.02183132606246,-9.494775510967573 L 33.0218002640151,-9.49432327084441 L 33.021760376044746,-9.49387103125565 L 33.021705399146555,-9.493427837428532 L 33.021625936838326,-9.492975600253322 L 33.021508324895,-9.49254145507929 L 33.02132864793421,-9.492125403327409 L 33.021041355615154,-9.491772671857957 L 33.02065015310166,-9.491546574090597 L 33.02021311898071,-9.49141997180413 L 33.019761853419645,-9.491356683675038 L 33.01930688884731,-9.491329574539638 L 33.01885135641268,-9.49132959937229 L 33.01839582397682,-9.491329623612042 L 33.01794057671794,-9.491338692087329 L 33.01748504426776,-9.491338715141664 L 33.017030079892386,-9.491311603046137 L 33.0165768229646,-9.491266400591849 L 33.01612242816933,-9.491239287289062 L 33.015667748736824,-9.491212173408924 L 33.01521250035839,-9.491194103805933 L 33.014756967705985,-9.491185078465959 L 33.01430171940917,-9.491167007678131 L 33.013847609263514,-9.49113084656637 L 33.01339520675529,-9.491076595113109 L 33.01294906659607,-9.490986163469353 L 33.01251118187313,-9.490859551587095 L 33.012095502736706,-9.490678669327341 L 33.011721957919804,-9.490416381569215 L 33.01140706118045,-9.490090777593949 L 33.01112803717818,-9.489738037657691 L 33.01086723437223,-9.489367207237436 L 33.010615827142125,-9.488987331485093 L 33.01036100427103,-9.488616500489234 L 33.010089099633596,-9.488245669792164 L 33.00978388612945,-9.487911019188417 L 33.00941717897966,-9.487648728733292 L 33.008976453208874,-9.487540202166455 L 33.008525482372505,-9.48759448250996 L 33.00808960265365,-9.487730165531675 L 33.0076716600074,-9.487911071843298 L 33.00727079980116,-9.488119111835365 L 33.00688218198076,-9.488354285660783 L 33.00650666059623,-9.488616593343377 L 33.00613626334437,-9.488878900529834 L 33.005768143177065,-9.489141207283305 L 33.00539859906047,-9.48941255851247 L 33.00503275541413,-9.489674864450153 L 33.004658654718924,-9.489937170111828 L 33.00428028273973,-9.490190430578243 L 33.003892229960925,-9.490425601052163 L 33.003492788180395,-9.490642681519118 L 33.00308053382177,-9.49083262710955 L 33.00265233510896,-9.49098639295911 L 33.00221046975822,-9.491094934152201 L 33.0017606321295,-9.491167295452813 L 33.00130680830117,-9.491212521659298 L 33.000851276018125,-9.49122156790726 L 33.00039574370074,-9.491221568718787 L 32.9999404960926,-9.491212524093925 L 32.99948667210059,-9.491167299504758 L 32.99903598006193,-9.491103984648475 L 32.99859098248754,-9.491004489860037 L 32.99816192907554,-9.490850725527105 L 32.997956087667404,-9.490507020320637 L 32.99823424831788,-9.490154272918588 L 32.99857333540913,-9.489846749763203 L 32.99892238656024,-9.489557315993485 L 32.999275423010936,-9.489267881879147 L 32.99962931297716,-9.488987492249555 L 32.99997580002328,-9.48868901256759 L 33.000307766488426,-9.488381487705686 L 33.00063090648719,-9.488064917694482 L 33.00095774705587,-9.487748347369246 L 33.001293412900495,-9.487440821546244 L 33.00163220993721,-9.487142340227189 L 33.001976700469584,-9.486843858543232 L 33.00231748925615,-9.486545376539908 L 33.00266226330355,-9.486246894169701 L 33.00300077328096,-9.485948411508847 L 33.003336435554424,-9.485640883696608 L 33.00366811139,-9.485333355599217 L 33.003988967727246,-9.485007737612493 L 33.00429758114756,-9.484673074629564 L 33.00459509059079,-9.484338411514424 L 33.00487010763676,-9.483976613912208 L 33.00512661824535,-9.48359672666337 L 33.0053552274421,-9.483207794798796 L 33.00554540123013,-9.482800773691578 L 33.00567721053887,-9.4823666188785 L 33.00574268410764,-9.48191437540239 L 33.00575833506714,-9.481462132724936 L 33.00573640583215,-9.481018935501236 L 33.00568771480676,-9.480566693851413 L 33.0056210879015,-9.480114452471296 L 33.00554250399339,-9.479671256105553 L 33.00545964982021,-9.479228059777444 L 33.005379073439485,-9.47878486338349 L 33.00530476046257,-9.478332622014813 L 33.00524468265258,-9.477889425256267 L 33.00520709587131,-9.477437183292128 L 33.00546957858342,-9.476975891907248 L 33.00568508686784,-9.476577915036529 L 33.00588237400327,-9.476170893479575 L 33.006101012955035,-9.475772916282914 L 33.00639680448504,-9.475420161800022 L 33.00680505895206,-9.475537737183306 L 33.00711054331943,-9.475872390624371 L 33.007378164574405,-9.476243223996226 L 33.00762130277768,-9.476623102539687 L 33.007845651787235,-9.47701202617774 L 33.0080583291759,-9.477419039632874 L 33.00826474352336,-9.477817008246511 L 33.0084688809927,-9.47822402163434 L 33.00866817908914,-9.478631035013155 L 33.00887174812026,-9.479038048160685 L 33.009078733769506,-9.47943601624209 L 33.009290275068885,-9.479833984071021 L 33.009510642513604,-9.480231951523303 L 33.00974325226651,-9.480620873638383 L 33.00999322893739,-9.481000750246304 L 33.01026057229511,-9.481362536461946 L 33.01053759600841,-9.481724322174513 L 33.01082543862477,-9.482077062477696 L 33.01113150207437,-9.482411712262296 L 33.01146461178289,-9.482719226345075 L 33.011831884956706,-9.48299055956235 L 33.01224755469026,-9.483171442226096 L 33.01270079976067,-9.483198560627498 L 33.01314322143943,-9.483099050984015 L 33.01355688451926,-9.482909093420103 L 33.01395317894008,-9.482682956667812 L 33.01433979265009,-9.482447775013625 L 33.014732099838184,-9.48221259269097 L 33.0151349415831,-9.482004544015645 L 33.01555999147313,-9.481841718130015 L 33.0160083901203,-9.481760294294569 L 33.01646391036292,-9.48176931803136 L 33.01691743905847,-9.481805475816062 L 33.017367837968266,-9.481877812560455 L 33.01781396749845,-9.481968238638085 L 33.01825326589269,-9.482085799046153 L 33.018680324921256,-9.482248583793476 L 33.01906069797741,-9.482492774189543 L 33.01894285331594,-9.482881709023053 L 33.018565068968336,-9.483134984974075 L 33.01816137387588,-9.483343037623653 L 33.01774970572821,-9.483533000516339 L 33.017336328917814,-9.483722963008518 L 33.01692579911182,-9.48392196972092 L 33.01651840098478,-9.484130020649845 L 33.01612153676278,-9.484347115465262 L 33.01573976249465,-9.484591343691188 L 33.01539300850349,-9.484889839039974 L 33.015172096486175,-9.485278777075276 L 33.01510891226374,-9.485731022116349 L 33.01514195767021,-9.486183262986732 L 33.015235929400404,-9.486626456350885 L 33.015381716742255,-9.487051557715075 L 33.0155687862026,-9.48746761232933 L 33.01579172769449,-9.487856530682079 L 33.01606534595725,-9.488218312027426 L 33.016402166836876,-9.488525821127721 L 33.01681642209988,-9.48870669836442 L 33.017269676600414,-9.488769990209649 L 33.017723499283825,-9.48880614690566 L 33.01817874463681,-9.488824213250563 L 33.01863427327665,-9.488815144455321 L 33.01908923197963,-9.488797030254146 L 33.01954390541567,-9.488769870633408 L 33.019997724137816,-9.488733665626782 L 33.02045125752183,-9.488688415204347 L 33.02090564545029,-9.488652208987752 L 33.02135917916553,-9.488616002233629 L 33.021813852178084,-9.488588839665377 L 33.022269095112414,-9.488570721314737 L 33.0227246232987,-9.488561647197924 L 33.023179583871496,-9.48857970705863 L 33.023632554029845,-9.488633945838933 L 33.02407840858312,-9.48871531905435 L 33.02444171151487,-9.488977594353566 L 33.02465583937708,-9.489384597308675 L 33.02478740481239,-9.489818740508678 L 33.02487911227032,-9.49026193132617 L 33.02495032104365,-9.49070512356969 L 33.025018114166045,-9.491157360873991 L 33.02507594203048,-9.49160055402469 L 33.02512010470292,-9.492052792977686 L 33.02514405317288,-9.492505033366152 L 33.02514038492414,-9.492957275726337 L 33.025100558563786,-9.493409520670452 L 33.02501318489946,-9.493852724159506 L 33.024866020563636,-9.4942778421882 L 33.024665044279104,-9.49468487426145 L 33.02443445630895,-9.495073818598824 L 33.02418422211392,-9.495453719294945 L 33.02391775755877,-9.495815531234394 L 33.023634209738894,-9.496177344119335 L 33.02332902137121,-9.496512023692025 L 33.02299706764306,-9.496819570234296 L 33.02261499976002,-9.497063805822316 z\" /></g></svg>"
      ],
      "text/plain": [
       "<shapely.geometry.polygon.Polygon at 0x1bb7cc20748>"
      ]
     },
     "execution_count": 12,
     "metadata": {},
     "output_type": "execute_result"
    }
   ],
   "source": [
    "wetlands.loc[0, 'geometry']"
   ]
  },
  {
   "cell_type": "code",
   "execution_count": 13,
   "metadata": {},
   "outputs": [
    {
     "data": {
      "text/plain": [
       "{'init': 'epsg:4326'}"
      ]
     },
     "execution_count": 13,
     "metadata": {},
     "output_type": "execute_result"
    }
   ],
   "source": [
    "# Print projection info\n",
    "wetlands.crs"
   ]
  },
  {
   "cell_type": "code",
   "execution_count": 14,
   "metadata": {},
   "outputs": [],
   "source": [
    "# Set projection info for pts\n",
    "pts.crs = 'epsg:4326'"
   ]
  },
  {
   "cell_type": "code",
   "execution_count": 15,
   "metadata": {},
   "outputs": [],
   "source": [
    "wetlands.crs = {'init': 'epsg:4326'}"
   ]
  },
  {
   "cell_type": "code",
   "execution_count": 16,
   "metadata": {},
   "outputs": [],
   "source": [
    "wetlands = wetlands.to_crs({'init': 'epsg:20935'})"
   ]
  },
  {
   "cell_type": "code",
   "execution_count": 17,
   "metadata": {},
   "outputs": [],
   "source": [
    "pts_prj = pts.copy()"
   ]
  },
  {
   "cell_type": "code",
   "execution_count": 18,
   "metadata": {},
   "outputs": [],
   "source": [
    "pts_prj.crs = {'init': 'epsg:4326'}"
   ]
  },
  {
   "cell_type": "code",
   "execution_count": 19,
   "metadata": {},
   "outputs": [],
   "source": [
    "pts_prj = pts_prj.to_crs({'init': 'epsg:20935'})"
   ]
  },
  {
   "cell_type": "code",
   "execution_count": 20,
   "metadata": {},
   "outputs": [],
   "source": [
    "# Calculate distance to wetland for each point\n",
    "def min_distance(point, polygon):\n",
    "    return polygon.distance(point).min()\n",
    "\n",
    "pts_prj['wetland_distance'] = pts_prj.geometry.apply(min_distance, args=(wetlands, ))"
   ]
  },
  {
   "cell_type": "code",
   "execution_count": 21,
   "metadata": {},
   "outputs": [
    {
     "data": {
      "text/plain": [
       "0"
      ]
     },
     "execution_count": 21,
     "metadata": {},
     "output_type": "execute_result"
    }
   ],
   "source": [
    "len(pts_prj[pts_prj['wetland_distance'].isna()])"
   ]
  },
  {
   "cell_type": "code",
   "execution_count": 22,
   "metadata": {},
   "outputs": [
    {
     "data": {
      "text/html": [
       "<div>\n",
       "<style scoped>\n",
       "    .dataframe tbody tr th:only-of-type {\n",
       "        vertical-align: middle;\n",
       "    }\n",
       "\n",
       "    .dataframe tbody tr th {\n",
       "        vertical-align: top;\n",
       "    }\n",
       "\n",
       "    .dataframe thead th {\n",
       "        text-align: right;\n",
       "    }\n",
       "</style>\n",
       "<table border=\"1\" class=\"dataframe\">\n",
       "  <thead>\n",
       "    <tr style=\"text-align: right;\">\n",
       "      <th></th>\n",
       "      <th>X</th>\n",
       "      <th>Y</th>\n",
       "      <th>target_2015</th>\n",
       "      <th>elevation</th>\n",
       "      <th>precip 2014-11-16 - 2014-11-23</th>\n",
       "      <th>precip 2014-11-23 - 2014-11-30</th>\n",
       "      <th>precip 2014-11-30 - 2014-12-07</th>\n",
       "      <th>precip 2014-12-07 - 2014-12-14</th>\n",
       "      <th>precip 2014-12-14 - 2014-12-21</th>\n",
       "      <th>precip 2014-12-21 - 2014-12-28</th>\n",
       "      <th>...</th>\n",
       "      <th>precip 2019-04-14 - 2019-04-21</th>\n",
       "      <th>precip 2019-04-21 - 2019-04-28</th>\n",
       "      <th>precip 2019-04-28 - 2019-05-05</th>\n",
       "      <th>precip 2019-05-05 - 2019-05-12</th>\n",
       "      <th>precip 2019-05-12 - 2019-05-19</th>\n",
       "      <th>LC_Type1_mode</th>\n",
       "      <th>Square_ID</th>\n",
       "      <th>geometry</th>\n",
       "      <th>Typographic_position_index</th>\n",
       "      <th>wetland_distance</th>\n",
       "    </tr>\n",
       "  </thead>\n",
       "  <tbody>\n",
       "    <tr>\n",
       "      <td>0</td>\n",
       "      <td>34.26</td>\n",
       "      <td>-15.91</td>\n",
       "      <td>0.0</td>\n",
       "      <td>887.764222</td>\n",
       "      <td>0.0</td>\n",
       "      <td>0.0</td>\n",
       "      <td>0.0</td>\n",
       "      <td>14.844025</td>\n",
       "      <td>14.552823</td>\n",
       "      <td>12.237766</td>\n",
       "      <td>...</td>\n",
       "      <td>0.0</td>\n",
       "      <td>0.0</td>\n",
       "      <td>0.0</td>\n",
       "      <td>0.0</td>\n",
       "      <td>0.0</td>\n",
       "      <td>9</td>\n",
       "      <td>4e3c3896-14ce-11ea-bce5-f49634744a41</td>\n",
       "      <td>POINT (34.26000 -15.91000)</td>\n",
       "      <td>57.0</td>\n",
       "      <td>15953.465740</td>\n",
       "    </tr>\n",
       "    <tr>\n",
       "      <td>1</td>\n",
       "      <td>34.26</td>\n",
       "      <td>-15.90</td>\n",
       "      <td>0.0</td>\n",
       "      <td>743.403912</td>\n",
       "      <td>0.0</td>\n",
       "      <td>0.0</td>\n",
       "      <td>0.0</td>\n",
       "      <td>14.844025</td>\n",
       "      <td>14.552823</td>\n",
       "      <td>12.237766</td>\n",
       "      <td>...</td>\n",
       "      <td>0.0</td>\n",
       "      <td>0.0</td>\n",
       "      <td>0.0</td>\n",
       "      <td>0.0</td>\n",
       "      <td>0.0</td>\n",
       "      <td>9</td>\n",
       "      <td>4e3c3897-14ce-11ea-bce5-f49634744a41</td>\n",
       "      <td>POINT (34.26000 -15.90000)</td>\n",
       "      <td>112.0</td>\n",
       "      <td>16265.216010</td>\n",
       "    </tr>\n",
       "    <tr>\n",
       "      <td>2</td>\n",
       "      <td>34.26</td>\n",
       "      <td>-15.89</td>\n",
       "      <td>0.0</td>\n",
       "      <td>565.728343</td>\n",
       "      <td>0.0</td>\n",
       "      <td>0.0</td>\n",
       "      <td>0.0</td>\n",
       "      <td>14.844025</td>\n",
       "      <td>14.552823</td>\n",
       "      <td>12.237766</td>\n",
       "      <td>...</td>\n",
       "      <td>0.0</td>\n",
       "      <td>0.0</td>\n",
       "      <td>0.0</td>\n",
       "      <td>0.0</td>\n",
       "      <td>0.0</td>\n",
       "      <td>9</td>\n",
       "      <td>4e3c3898-14ce-11ea-bce5-f49634744a41</td>\n",
       "      <td>POINT (34.26000 -15.89000)</td>\n",
       "      <td>0.0</td>\n",
       "      <td>16645.902409</td>\n",
       "    </tr>\n",
       "    <tr>\n",
       "      <td>3</td>\n",
       "      <td>34.26</td>\n",
       "      <td>-15.88</td>\n",
       "      <td>0.0</td>\n",
       "      <td>443.392774</td>\n",
       "      <td>0.0</td>\n",
       "      <td>0.0</td>\n",
       "      <td>0.0</td>\n",
       "      <td>14.844025</td>\n",
       "      <td>14.552823</td>\n",
       "      <td>12.237766</td>\n",
       "      <td>...</td>\n",
       "      <td>0.0</td>\n",
       "      <td>0.0</td>\n",
       "      <td>0.0</td>\n",
       "      <td>0.0</td>\n",
       "      <td>0.0</td>\n",
       "      <td>10</td>\n",
       "      <td>4e3c3899-14ce-11ea-bce5-f49634744a41</td>\n",
       "      <td>POINT (34.26000 -15.88000)</td>\n",
       "      <td>-4.0</td>\n",
       "      <td>17087.784546</td>\n",
       "    </tr>\n",
       "    <tr>\n",
       "      <td>4</td>\n",
       "      <td>34.26</td>\n",
       "      <td>-15.87</td>\n",
       "      <td>0.0</td>\n",
       "      <td>437.443428</td>\n",
       "      <td>0.0</td>\n",
       "      <td>0.0</td>\n",
       "      <td>0.0</td>\n",
       "      <td>14.844025</td>\n",
       "      <td>14.552823</td>\n",
       "      <td>12.237766</td>\n",
       "      <td>...</td>\n",
       "      <td>0.0</td>\n",
       "      <td>0.0</td>\n",
       "      <td>0.0</td>\n",
       "      <td>0.0</td>\n",
       "      <td>0.0</td>\n",
       "      <td>10</td>\n",
       "      <td>4e3c389a-14ce-11ea-bce5-f49634744a41</td>\n",
       "      <td>POINT (34.26000 -15.87000)</td>\n",
       "      <td>3.0</td>\n",
       "      <td>17589.245651</td>\n",
       "    </tr>\n",
       "  </tbody>\n",
       "</table>\n",
       "<p>5 rows × 43 columns</p>\n",
       "</div>"
      ],
      "text/plain": [
       "       X      Y  target_2015   elevation  precip 2014-11-16 - 2014-11-23  \\\n",
       "0  34.26 -15.91          0.0  887.764222                             0.0   \n",
       "1  34.26 -15.90          0.0  743.403912                             0.0   \n",
       "2  34.26 -15.89          0.0  565.728343                             0.0   \n",
       "3  34.26 -15.88          0.0  443.392774                             0.0   \n",
       "4  34.26 -15.87          0.0  437.443428                             0.0   \n",
       "\n",
       "   precip 2014-11-23 - 2014-11-30  precip 2014-11-30 - 2014-12-07  \\\n",
       "0                             0.0                             0.0   \n",
       "1                             0.0                             0.0   \n",
       "2                             0.0                             0.0   \n",
       "3                             0.0                             0.0   \n",
       "4                             0.0                             0.0   \n",
       "\n",
       "   precip 2014-12-07 - 2014-12-14  precip 2014-12-14 - 2014-12-21  \\\n",
       "0                       14.844025                       14.552823   \n",
       "1                       14.844025                       14.552823   \n",
       "2                       14.844025                       14.552823   \n",
       "3                       14.844025                       14.552823   \n",
       "4                       14.844025                       14.552823   \n",
       "\n",
       "   precip 2014-12-21 - 2014-12-28  ...  precip 2019-04-14 - 2019-04-21  \\\n",
       "0                       12.237766  ...                             0.0   \n",
       "1                       12.237766  ...                             0.0   \n",
       "2                       12.237766  ...                             0.0   \n",
       "3                       12.237766  ...                             0.0   \n",
       "4                       12.237766  ...                             0.0   \n",
       "\n",
       "   precip 2019-04-21 - 2019-04-28  precip 2019-04-28 - 2019-05-05  \\\n",
       "0                             0.0                             0.0   \n",
       "1                             0.0                             0.0   \n",
       "2                             0.0                             0.0   \n",
       "3                             0.0                             0.0   \n",
       "4                             0.0                             0.0   \n",
       "\n",
       "   precip 2019-05-05 - 2019-05-12  precip 2019-05-12 - 2019-05-19  \\\n",
       "0                             0.0                             0.0   \n",
       "1                             0.0                             0.0   \n",
       "2                             0.0                             0.0   \n",
       "3                             0.0                             0.0   \n",
       "4                             0.0                             0.0   \n",
       "\n",
       "   LC_Type1_mode                             Square_ID  \\\n",
       "0              9  4e3c3896-14ce-11ea-bce5-f49634744a41   \n",
       "1              9  4e3c3897-14ce-11ea-bce5-f49634744a41   \n",
       "2              9  4e3c3898-14ce-11ea-bce5-f49634744a41   \n",
       "3             10  4e3c3899-14ce-11ea-bce5-f49634744a41   \n",
       "4             10  4e3c389a-14ce-11ea-bce5-f49634744a41   \n",
       "\n",
       "                     geometry  Typographic_position_index  wetland_distance  \n",
       "0  POINT (34.26000 -15.91000)                        57.0      15953.465740  \n",
       "1  POINT (34.26000 -15.90000)                       112.0      16265.216010  \n",
       "2  POINT (34.26000 -15.89000)                         0.0      16645.902409  \n",
       "3  POINT (34.26000 -15.88000)                        -4.0      17087.784546  \n",
       "4  POINT (34.26000 -15.87000)                         3.0      17589.245651  \n",
       "\n",
       "[5 rows x 43 columns]"
      ]
     },
     "execution_count": 22,
     "metadata": {},
     "output_type": "execute_result"
    }
   ],
   "source": [
    "# Add to points data frame\n",
    "pts['wetland_distance'] = pts_prj['wetland_distance']\n",
    "pts.head()"
   ]
  },
  {
   "cell_type": "code",
   "execution_count": 23,
   "metadata": {},
   "outputs": [],
   "source": [
    "wetlanddistance = pts[['X','Y','elevation','wetland_distance']]"
   ]
  },
  {
   "cell_type": "code",
   "execution_count": 24,
   "metadata": {},
   "outputs": [],
   "source": [
    "wetlanddistance.to_csv('wetlanddistance.csv', index=False)"
   ]
  },
  {
   "cell_type": "code",
   "execution_count": 25,
   "metadata": {},
   "outputs": [],
   "source": [
    "malawi_srtm30meters_path = os.path.join(r\"C:\\Users\\DELL\\Desktop\\externaldata\\malawi_srtm30meters\\malawi_srtm30meters.tif\")\n",
    "\n",
    "with rio.open(malawi_srtm30meters_path) as malawi_srtm30meters:\n",
    "    malawi_srtm30meters_data = malawi_srtm30meters.read(1, masked=True)\n",
    "    malawi_srtm30meters_meta = malawi_srtm30meters.profile"
   ]
  },
  {
   "cell_type": "code",
   "execution_count": 26,
   "metadata": {},
   "outputs": [
    {
     "data": {
      "text/plain": [
       "{'driver': 'GTiff', 'dtype': 'int16', 'nodata': -32768.0, 'width': 11672, 'height': 27964, 'count': 1, 'crs': CRS.from_dict(init='epsg:4326'), 'transform': Affine(0.00027777777777777734, 0.0, 32.67625,\n",
       "       0.0, -0.0002777777777777772, -9.365138888888906), 'blockxsize': 128, 'blockysize': 128, 'tiled': True, 'compress': 'lzw', 'interleave': 'band'}"
      ]
     },
     "execution_count": 26,
     "metadata": {},
     "output_type": "execute_result"
    }
   ],
   "source": [
    "malawi_srtm30meters_meta"
   ]
  },
  {
   "cell_type": "code",
   "execution_count": 27,
   "metadata": {},
   "outputs": [
    {
     "data": {
      "image/png": "[encoded data removed]",
      "text/plain": [
       "<Figure size 576x576 with 1 Axes>"
      ]
     },
     "metadata": {
      "needs_background": "light"
     },
     "output_type": "display_data"
    }
   ],
   "source": [
    "# Plotting a histogram with earthpy\n",
    "ax=ep.hist(malawi_srtm30meters_data,\n",
    "        figsize=(8,8),\n",
    "        colors=\"purple\",\n",
    "        xlabel=\"malawi 30m\",\n",
    "        ylabel=\"Total Pixels\",\n",
    "        title=\"Distribution of Pixel Values \\n malawi_srtm30meters\")\n",
    "\n",
    "# Turn off scientific notation\n",
    "ax[1].ticklabel_format(useOffset=False,\n",
    "                     style='plain')"
   ]
  },
  {
   "cell_type": "code",
   "execution_count": 28,
   "metadata": {},
   "outputs": [
    {
     "data": {
      "text/plain": [
       "list"
      ]
     },
     "execution_count": 28,
     "metadata": {},
     "output_type": "execute_result"
    }
   ],
   "source": [
    "# Extract strm stats\n",
    "meters30_strm = rs.zonal_stats(pts,\n",
    "                         malawi_srtm30meters_data,\n",
    "                         nodata=-999,\n",
    "                         affine=malawi_srtm30meters_meta['transform'],\n",
    "                         geojson_out=True,\n",
    "                         copy_properties=True,\n",
    "                         stats='majority')\n",
    "\n",
    "# View object type\n",
    "type(meters30_strm)"
   ]
  },
  {
   "cell_type": "code",
   "execution_count": 29,
   "metadata": {},
   "outputs": [
    {
     "data": {
      "text/html": [
       "<div>\n",
       "<style scoped>\n",
       "    .dataframe tbody tr th:only-of-type {\n",
       "        vertical-align: middle;\n",
       "    }\n",
       "\n",
       "    .dataframe tbody tr th {\n",
       "        vertical-align: top;\n",
       "    }\n",
       "\n",
       "    .dataframe thead th {\n",
       "        text-align: right;\n",
       "    }\n",
       "</style>\n",
       "<table border=\"1\" class=\"dataframe\">\n",
       "  <thead>\n",
       "    <tr style=\"text-align: right;\">\n",
       "      <th></th>\n",
       "      <th>geometry</th>\n",
       "      <th>LC_Type1_mode</th>\n",
       "      <th>Square_ID</th>\n",
       "      <th>Typographic_position_index</th>\n",
       "      <th>X</th>\n",
       "      <th>Y</th>\n",
       "      <th>elevation</th>\n",
       "      <th>precip 2014-11-16 - 2014-11-23</th>\n",
       "      <th>precip 2014-11-23 - 2014-11-30</th>\n",
       "      <th>precip 2014-11-30 - 2014-12-07</th>\n",
       "      <th>...</th>\n",
       "      <th>precip 2019-03-31 - 2019-04-07</th>\n",
       "      <th>precip 2019-04-07 - 2019-04-14</th>\n",
       "      <th>precip 2019-04-14 - 2019-04-21</th>\n",
       "      <th>precip 2019-04-21 - 2019-04-28</th>\n",
       "      <th>precip 2019-04-28 - 2019-05-05</th>\n",
       "      <th>precip 2019-05-05 - 2019-05-12</th>\n",
       "      <th>precip 2019-05-12 - 2019-05-19</th>\n",
       "      <th>target_2015</th>\n",
       "      <th>wetland_distance</th>\n",
       "      <th>majority</th>\n",
       "    </tr>\n",
       "  </thead>\n",
       "  <tbody>\n",
       "    <tr>\n",
       "      <td>0</td>\n",
       "      <td>POINT (34.26000 -15.91000)</td>\n",
       "      <td>9</td>\n",
       "      <td>4e3c3896-14ce-11ea-bce5-f49634744a41</td>\n",
       "      <td>57.0</td>\n",
       "      <td>34.26</td>\n",
       "      <td>-15.91</td>\n",
       "      <td>887.764222</td>\n",
       "      <td>0.0</td>\n",
       "      <td>0.0</td>\n",
       "      <td>0.0</td>\n",
       "      <td>...</td>\n",
       "      <td>1.68</td>\n",
       "      <td>0.0</td>\n",
       "      <td>0.0</td>\n",
       "      <td>0.0</td>\n",
       "      <td>0.0</td>\n",
       "      <td>0.0</td>\n",
       "      <td>0.0</td>\n",
       "      <td>0.0</td>\n",
       "      <td>15953.46574</td>\n",
       "      <td>-32768.0</td>\n",
       "    </tr>\n",
       "    <tr>\n",
       "      <td>1</td>\n",
       "      <td>POINT (34.26000 -15.90000)</td>\n",
       "      <td>9</td>\n",
       "      <td>4e3c3897-14ce-11ea-bce5-f49634744a41</td>\n",
       "      <td>112.0</td>\n",
       "      <td>34.26</td>\n",
       "      <td>-15.90</td>\n",
       "      <td>743.403912</td>\n",
       "      <td>0.0</td>\n",
       "      <td>0.0</td>\n",
       "      <td>0.0</td>\n",
       "      <td>...</td>\n",
       "      <td>1.68</td>\n",
       "      <td>0.0</td>\n",
       "      <td>0.0</td>\n",
       "      <td>0.0</td>\n",
       "      <td>0.0</td>\n",
       "      <td>0.0</td>\n",
       "      <td>0.0</td>\n",
       "      <td>0.0</td>\n",
       "      <td>16265.21601</td>\n",
       "      <td>742.0</td>\n",
       "    </tr>\n",
       "  </tbody>\n",
       "</table>\n",
       "<p>2 rows × 44 columns</p>\n",
       "</div>"
      ],
      "text/plain": [
       "                     geometry  LC_Type1_mode  \\\n",
       "0  POINT (34.26000 -15.91000)              9   \n",
       "1  POINT (34.26000 -15.90000)              9   \n",
       "\n",
       "                              Square_ID  Typographic_position_index      X  \\\n",
       "0  4e3c3896-14ce-11ea-bce5-f49634744a41                        57.0  34.26   \n",
       "1  4e3c3897-14ce-11ea-bce5-f49634744a41                       112.0  34.26   \n",
       "\n",
       "       Y   elevation  precip 2014-11-16 - 2014-11-23  \\\n",
       "0 -15.91  887.764222                             0.0   \n",
       "1 -15.90  743.403912                             0.0   \n",
       "\n",
       "   precip 2014-11-23 - 2014-11-30  precip 2014-11-30 - 2014-12-07  ...  \\\n",
       "0                             0.0                             0.0  ...   \n",
       "1                             0.0                             0.0  ...   \n",
       "\n",
       "   precip 2019-03-31 - 2019-04-07  precip 2019-04-07 - 2019-04-14  \\\n",
       "0                            1.68                             0.0   \n",
       "1                            1.68                             0.0   \n",
       "\n",
       "   precip 2019-04-14 - 2019-04-21  precip 2019-04-21 - 2019-04-28  \\\n",
       "0                             0.0                             0.0   \n",
       "1                             0.0                             0.0   \n",
       "\n",
       "   precip 2019-04-28 - 2019-05-05  precip 2019-05-05 - 2019-05-12  \\\n",
       "0                             0.0                             0.0   \n",
       "1                             0.0                             0.0   \n",
       "\n",
       "   precip 2019-05-12 - 2019-05-19  target_2015  wetland_distance  majority  \n",
       "0                             0.0          0.0       15953.46574  -32768.0  \n",
       "1                             0.0          0.0       16265.21601     742.0  \n",
       "\n",
       "[2 rows x 44 columns]"
      ]
     },
     "execution_count": 29,
     "metadata": {},
     "output_type": "execute_result"
    }
   ],
   "source": [
    "# Turn extracted data into a pandas geodataframe\n",
    "meters30_df = gpd.GeoDataFrame.from_features(meters30_strm)\n",
    "meters30_df.head(2)"
   ]
  },
  {
   "cell_type": "code",
   "execution_count": 30,
   "metadata": {},
   "outputs": [],
   "source": [
    "meters30_df.to_csv('newdata1.csv', index=False)"
   ]
  },
  {
   "cell_type": "code",
   "execution_count": 31,
   "metadata": {},
   "outputs": [
    {
     "data": {
      "text/plain": [
       "0"
      ]
     },
     "execution_count": 31,
     "metadata": {},
     "output_type": "execute_result"
    }
   ],
   "source": [
    "# find if there are rows with no data\n",
    "len(meters30_df[meters30_df['majority'].isna()])"
   ]
  },
  {
   "cell_type": "code",
   "execution_count": 32,
   "metadata": {},
   "outputs": [
    {
     "data": {
      "text/plain": [
       "16265"
      ]
     },
     "execution_count": 32,
     "metadata": {},
     "output_type": "execute_result"
    }
   ],
   "source": [
    "len(meters30_df[meters30_df['majority'] > 0])"
   ]
  },
  {
   "cell_type": "code",
   "execution_count": 33,
   "metadata": {},
   "outputs": [],
   "source": [
    "# Replace negative values with 0\n",
    "meters30_df['majority'][meters30_df['majority'] < 0] = 0"
   ]
  },
  {
   "cell_type": "code",
   "execution_count": 34,
   "metadata": {},
   "outputs": [
    {
     "data": {
      "text/plain": [
       "0"
      ]
     },
     "execution_count": 34,
     "metadata": {},
     "output_type": "execute_result"
    }
   ],
   "source": [
    "len(meters30_df[meters30_df['majority'] < 0])"
   ]
  },
  {
   "cell_type": "code",
   "execution_count": 35,
   "metadata": {},
   "outputs": [
    {
     "data": {
      "text/plain": [
       "(16466, 44)"
      ]
     },
     "execution_count": 35,
     "metadata": {},
     "output_type": "execute_result"
    }
   ],
   "source": [
    "meters30_df.shape"
   ]
  },
  {
   "cell_type": "code",
   "execution_count": 36,
   "metadata": {},
   "outputs": [
    {
     "data": {
      "text/plain": [
       "(16466, 44)"
      ]
     },
     "execution_count": 36,
     "metadata": {},
     "output_type": "execute_result"
    }
   ],
   "source": [
    "# Join with points dataset\n",
    "pts['malawi_srtm30meters'] = meters30_df.majority\n",
    "pts.shape"
   ]
  },
  {
   "cell_type": "code",
   "execution_count": 37,
   "metadata": {},
   "outputs": [
    {
     "data": {
      "text/html": [
       "<div>\n",
       "<style scoped>\n",
       "    .dataframe tbody tr th:only-of-type {\n",
       "        vertical-align: middle;\n",
       "    }\n",
       "\n",
       "    .dataframe tbody tr th {\n",
       "        vertical-align: top;\n",
       "    }\n",
       "\n",
       "    .dataframe thead th {\n",
       "        text-align: right;\n",
       "    }\n",
       "</style>\n",
       "<table border=\"1\" class=\"dataframe\">\n",
       "  <thead>\n",
       "    <tr style=\"text-align: right;\">\n",
       "      <th></th>\n",
       "      <th>X</th>\n",
       "      <th>Y</th>\n",
       "      <th>target_2015</th>\n",
       "      <th>elevation</th>\n",
       "      <th>precip 2014-11-16 - 2014-11-23</th>\n",
       "      <th>precip 2014-11-23 - 2014-11-30</th>\n",
       "      <th>precip 2014-11-30 - 2014-12-07</th>\n",
       "      <th>precip 2014-12-07 - 2014-12-14</th>\n",
       "      <th>precip 2014-12-14 - 2014-12-21</th>\n",
       "      <th>precip 2014-12-21 - 2014-12-28</th>\n",
       "      <th>...</th>\n",
       "      <th>precip 2019-04-21 - 2019-04-28</th>\n",
       "      <th>precip 2019-04-28 - 2019-05-05</th>\n",
       "      <th>precip 2019-05-05 - 2019-05-12</th>\n",
       "      <th>precip 2019-05-12 - 2019-05-19</th>\n",
       "      <th>LC_Type1_mode</th>\n",
       "      <th>Square_ID</th>\n",
       "      <th>geometry</th>\n",
       "      <th>Typographic_position_index</th>\n",
       "      <th>wetland_distance</th>\n",
       "      <th>malawi_srtm30meters</th>\n",
       "    </tr>\n",
       "  </thead>\n",
       "  <tbody>\n",
       "    <tr>\n",
       "      <td>0</td>\n",
       "      <td>34.26</td>\n",
       "      <td>-15.91</td>\n",
       "      <td>0.0</td>\n",
       "      <td>887.764222</td>\n",
       "      <td>0.0</td>\n",
       "      <td>0.0</td>\n",
       "      <td>0.0</td>\n",
       "      <td>14.844025</td>\n",
       "      <td>14.552823</td>\n",
       "      <td>12.237766</td>\n",
       "      <td>...</td>\n",
       "      <td>0.0</td>\n",
       "      <td>0.0</td>\n",
       "      <td>0.0</td>\n",
       "      <td>0.0</td>\n",
       "      <td>9</td>\n",
       "      <td>4e3c3896-14ce-11ea-bce5-f49634744a41</td>\n",
       "      <td>POINT (34.26000 -15.91000)</td>\n",
       "      <td>57.0</td>\n",
       "      <td>15953.465740</td>\n",
       "      <td>0.0</td>\n",
       "    </tr>\n",
       "    <tr>\n",
       "      <td>1</td>\n",
       "      <td>34.26</td>\n",
       "      <td>-15.90</td>\n",
       "      <td>0.0</td>\n",
       "      <td>743.403912</td>\n",
       "      <td>0.0</td>\n",
       "      <td>0.0</td>\n",
       "      <td>0.0</td>\n",
       "      <td>14.844025</td>\n",
       "      <td>14.552823</td>\n",
       "      <td>12.237766</td>\n",
       "      <td>...</td>\n",
       "      <td>0.0</td>\n",
       "      <td>0.0</td>\n",
       "      <td>0.0</td>\n",
       "      <td>0.0</td>\n",
       "      <td>9</td>\n",
       "      <td>4e3c3897-14ce-11ea-bce5-f49634744a41</td>\n",
       "      <td>POINT (34.26000 -15.90000)</td>\n",
       "      <td>112.0</td>\n",
       "      <td>16265.216010</td>\n",
       "      <td>742.0</td>\n",
       "    </tr>\n",
       "    <tr>\n",
       "      <td>2</td>\n",
       "      <td>34.26</td>\n",
       "      <td>-15.89</td>\n",
       "      <td>0.0</td>\n",
       "      <td>565.728343</td>\n",
       "      <td>0.0</td>\n",
       "      <td>0.0</td>\n",
       "      <td>0.0</td>\n",
       "      <td>14.844025</td>\n",
       "      <td>14.552823</td>\n",
       "      <td>12.237766</td>\n",
       "      <td>...</td>\n",
       "      <td>0.0</td>\n",
       "      <td>0.0</td>\n",
       "      <td>0.0</td>\n",
       "      <td>0.0</td>\n",
       "      <td>9</td>\n",
       "      <td>4e3c3898-14ce-11ea-bce5-f49634744a41</td>\n",
       "      <td>POINT (34.26000 -15.89000)</td>\n",
       "      <td>0.0</td>\n",
       "      <td>16645.902409</td>\n",
       "      <td>607.0</td>\n",
       "    </tr>\n",
       "    <tr>\n",
       "      <td>3</td>\n",
       "      <td>34.26</td>\n",
       "      <td>-15.88</td>\n",
       "      <td>0.0</td>\n",
       "      <td>443.392774</td>\n",
       "      <td>0.0</td>\n",
       "      <td>0.0</td>\n",
       "      <td>0.0</td>\n",
       "      <td>14.844025</td>\n",
       "      <td>14.552823</td>\n",
       "      <td>12.237766</td>\n",
       "      <td>...</td>\n",
       "      <td>0.0</td>\n",
       "      <td>0.0</td>\n",
       "      <td>0.0</td>\n",
       "      <td>0.0</td>\n",
       "      <td>10</td>\n",
       "      <td>4e3c3899-14ce-11ea-bce5-f49634744a41</td>\n",
       "      <td>POINT (34.26000 -15.88000)</td>\n",
       "      <td>-4.0</td>\n",
       "      <td>17087.784546</td>\n",
       "      <td>436.0</td>\n",
       "    </tr>\n",
       "    <tr>\n",
       "      <td>4</td>\n",
       "      <td>34.26</td>\n",
       "      <td>-15.87</td>\n",
       "      <td>0.0</td>\n",
       "      <td>437.443428</td>\n",
       "      <td>0.0</td>\n",
       "      <td>0.0</td>\n",
       "      <td>0.0</td>\n",
       "      <td>14.844025</td>\n",
       "      <td>14.552823</td>\n",
       "      <td>12.237766</td>\n",
       "      <td>...</td>\n",
       "      <td>0.0</td>\n",
       "      <td>0.0</td>\n",
       "      <td>0.0</td>\n",
       "      <td>0.0</td>\n",
       "      <td>10</td>\n",
       "      <td>4e3c389a-14ce-11ea-bce5-f49634744a41</td>\n",
       "      <td>POINT (34.26000 -15.87000)</td>\n",
       "      <td>3.0</td>\n",
       "      <td>17589.245651</td>\n",
       "      <td>486.0</td>\n",
       "    </tr>\n",
       "  </tbody>\n",
       "</table>\n",
       "<p>5 rows × 44 columns</p>\n",
       "</div>"
      ],
      "text/plain": [
       "       X      Y  target_2015   elevation  precip 2014-11-16 - 2014-11-23  \\\n",
       "0  34.26 -15.91          0.0  887.764222                             0.0   \n",
       "1  34.26 -15.90          0.0  743.403912                             0.0   \n",
       "2  34.26 -15.89          0.0  565.728343                             0.0   \n",
       "3  34.26 -15.88          0.0  443.392774                             0.0   \n",
       "4  34.26 -15.87          0.0  437.443428                             0.0   \n",
       "\n",
       "   precip 2014-11-23 - 2014-11-30  precip 2014-11-30 - 2014-12-07  \\\n",
       "0                             0.0                             0.0   \n",
       "1                             0.0                             0.0   \n",
       "2                             0.0                             0.0   \n",
       "3                             0.0                             0.0   \n",
       "4                             0.0                             0.0   \n",
       "\n",
       "   precip 2014-12-07 - 2014-12-14  precip 2014-12-14 - 2014-12-21  \\\n",
       "0                       14.844025                       14.552823   \n",
       "1                       14.844025                       14.552823   \n",
       "2                       14.844025                       14.552823   \n",
       "3                       14.844025                       14.552823   \n",
       "4                       14.844025                       14.552823   \n",
       "\n",
       "   precip 2014-12-21 - 2014-12-28  ...  precip 2019-04-21 - 2019-04-28  \\\n",
       "0                       12.237766  ...                             0.0   \n",
       "1                       12.237766  ...                             0.0   \n",
       "2                       12.237766  ...                             0.0   \n",
       "3                       12.237766  ...                             0.0   \n",
       "4                       12.237766  ...                             0.0   \n",
       "\n",
       "   precip 2019-04-28 - 2019-05-05  precip 2019-05-05 - 2019-05-12  \\\n",
       "0                             0.0                             0.0   \n",
       "1                             0.0                             0.0   \n",
       "2                             0.0                             0.0   \n",
       "3                             0.0                             0.0   \n",
       "4                             0.0                             0.0   \n",
       "\n",
       "   precip 2019-05-12 - 2019-05-19  LC_Type1_mode  \\\n",
       "0                             0.0              9   \n",
       "1                             0.0              9   \n",
       "2                             0.0              9   \n",
       "3                             0.0             10   \n",
       "4                             0.0             10   \n",
       "\n",
       "                              Square_ID                    geometry  \\\n",
       "0  4e3c3896-14ce-11ea-bce5-f49634744a41  POINT (34.26000 -15.91000)   \n",
       "1  4e3c3897-14ce-11ea-bce5-f49634744a41  POINT (34.26000 -15.90000)   \n",
       "2  4e3c3898-14ce-11ea-bce5-f49634744a41  POINT (34.26000 -15.89000)   \n",
       "3  4e3c3899-14ce-11ea-bce5-f49634744a41  POINT (34.26000 -15.88000)   \n",
       "4  4e3c389a-14ce-11ea-bce5-f49634744a41  POINT (34.26000 -15.87000)   \n",
       "\n",
       "   Typographic_position_index  wetland_distance  malawi_srtm30meters  \n",
       "0                        57.0      15953.465740                  0.0  \n",
       "1                       112.0      16265.216010                742.0  \n",
       "2                         0.0      16645.902409                607.0  \n",
       "3                        -4.0      17087.784546                436.0  \n",
       "4                         3.0      17589.245651                486.0  \n",
       "\n",
       "[5 rows x 44 columns]"
      ]
     },
     "execution_count": 37,
     "metadata": {},
     "output_type": "execute_result"
    }
   ],
   "source": [
    "pts.head()"
   ]
  },
  {
   "cell_type": "code",
   "execution_count": 38,
   "metadata": {},
   "outputs": [],
   "source": [
    "pts.to_csv('newdata2.csv', index=False)"
   ]
  },
  {
   "cell_type": "code",
   "execution_count": 39,
   "metadata": {},
   "outputs": [],
   "source": [
    "malawi_poverty_level_path = os.path.join(r\"C:\\Users\\DELL\\Desktop\\externaldata\\malawi_national_poverty_levels0\\malawi_national_poverty_levels0.tif\")\n",
    "\n",
    "with rio.open(malawi_poverty_level_path) as malawi_poverty_level:\n",
    "    malawi_poverty_level_data = malawi_poverty_level.read(1, masked=True)\n",
    "    malawi_poverty_level_meta = malawi_poverty_level.profile"
   ]
  },
  {
   "cell_type": "code",
   "execution_count": 40,
   "metadata": {},
   "outputs": [
    {
     "data": {
      "text/plain": [
       "{'driver': 'GTiff', 'dtype': 'float64', 'nodata': -1.797693e+308, 'width': 325, 'height': 776, 'count': 1, 'crs': CRS.from_dict(init='epsg:4326'), 'transform': Affine(0.01, 0.0, 32.67668701171875,\n",
       "       0.0, -0.01, -9.364999999999997), 'blockxsize': 128, 'blockysize': 128, 'tiled': True, 'interleave': 'band'}"
      ]
     },
     "execution_count": 40,
     "metadata": {},
     "output_type": "execute_result"
    }
   ],
   "source": [
    "malawi_poverty_level_meta"
   ]
  },
  {
   "cell_type": "code",
   "execution_count": 41,
   "metadata": {},
   "outputs": [
    {
     "data": {
      "image/png": "[encoded data removed]",
      "text/plain": [
       "<Figure size 576x576 with 1 Axes>"
      ]
     },
     "metadata": {
      "needs_background": "light"
     },
     "output_type": "display_data"
    }
   ],
   "source": [
    "# Plotting a histogram with earthpy\n",
    "ax=ep.hist( malawi_poverty_level_data,\n",
    "        figsize=(8,8),\n",
    "        colors=\"purple\",\n",
    "        xlabel=\" malawi_poverty_level_data\",\n",
    "        ylabel=\"Total Pixels\",\n",
    "        title=\"Distribution of Pixel Values \\n  malawi_poverty_level_data\")\n",
    "\n",
    "# Turn off scientific notation\n",
    "ax[1].ticklabel_format(useOffset=False,\n",
    "                     style='plain')"
   ]
  },
  {
   "cell_type": "code",
   "execution_count": 42,
   "metadata": {},
   "outputs": [
    {
     "data": {
      "text/plain": [
       "list"
      ]
     },
     "execution_count": 42,
     "metadata": {},
     "output_type": "execute_result"
    }
   ],
   "source": [
    "# Extract strm stats\n",
    "malawi_poverty= rs.zonal_stats(pts,\n",
    "                         malawi_poverty_level_data,\n",
    "                         nodata=-999,\n",
    "                         affine=malawi_poverty_level_meta['transform'],\n",
    "                         geojson_out=True,\n",
    "                         copy_properties=True,\n",
    "                         stats='majority')\n",
    "\n",
    "# View object type\n",
    "type(malawi_poverty)"
   ]
  },
  {
   "cell_type": "code",
   "execution_count": 43,
   "metadata": {},
   "outputs": [
    {
     "data": {
      "text/html": [
       "<div>\n",
       "<style scoped>\n",
       "    .dataframe tbody tr th:only-of-type {\n",
       "        vertical-align: middle;\n",
       "    }\n",
       "\n",
       "    .dataframe tbody tr th {\n",
       "        vertical-align: top;\n",
       "    }\n",
       "\n",
       "    .dataframe thead th {\n",
       "        text-align: right;\n",
       "    }\n",
       "</style>\n",
       "<table border=\"1\" class=\"dataframe\">\n",
       "  <thead>\n",
       "    <tr style=\"text-align: right;\">\n",
       "      <th></th>\n",
       "      <th>geometry</th>\n",
       "      <th>LC_Type1_mode</th>\n",
       "      <th>Square_ID</th>\n",
       "      <th>Typographic_position_index</th>\n",
       "      <th>X</th>\n",
       "      <th>Y</th>\n",
       "      <th>elevation</th>\n",
       "      <th>malawi_srtm30meters</th>\n",
       "      <th>precip 2014-11-16 - 2014-11-23</th>\n",
       "      <th>precip 2014-11-23 - 2014-11-30</th>\n",
       "      <th>...</th>\n",
       "      <th>precip 2019-03-31 - 2019-04-07</th>\n",
       "      <th>precip 2019-04-07 - 2019-04-14</th>\n",
       "      <th>precip 2019-04-14 - 2019-04-21</th>\n",
       "      <th>precip 2019-04-21 - 2019-04-28</th>\n",
       "      <th>precip 2019-04-28 - 2019-05-05</th>\n",
       "      <th>precip 2019-05-05 - 2019-05-12</th>\n",
       "      <th>precip 2019-05-12 - 2019-05-19</th>\n",
       "      <th>target_2015</th>\n",
       "      <th>wetland_distance</th>\n",
       "      <th>majority</th>\n",
       "    </tr>\n",
       "  </thead>\n",
       "  <tbody>\n",
       "    <tr>\n",
       "      <td>0</td>\n",
       "      <td>POINT (34.26000 -15.91000)</td>\n",
       "      <td>9</td>\n",
       "      <td>4e3c3896-14ce-11ea-bce5-f49634744a41</td>\n",
       "      <td>57.0</td>\n",
       "      <td>34.26</td>\n",
       "      <td>-15.91</td>\n",
       "      <td>887.764222</td>\n",
       "      <td>0.0</td>\n",
       "      <td>0.0</td>\n",
       "      <td>0.0</td>\n",
       "      <td>...</td>\n",
       "      <td>1.68</td>\n",
       "      <td>0.0</td>\n",
       "      <td>0.0</td>\n",
       "      <td>0.0</td>\n",
       "      <td>0.0</td>\n",
       "      <td>0.0</td>\n",
       "      <td>0.0</td>\n",
       "      <td>0.0</td>\n",
       "      <td>15953.46574</td>\n",
       "      <td>95.388485</td>\n",
       "    </tr>\n",
       "    <tr>\n",
       "      <td>1</td>\n",
       "      <td>POINT (34.26000 -15.90000)</td>\n",
       "      <td>9</td>\n",
       "      <td>4e3c3897-14ce-11ea-bce5-f49634744a41</td>\n",
       "      <td>112.0</td>\n",
       "      <td>34.26</td>\n",
       "      <td>-15.90</td>\n",
       "      <td>743.403912</td>\n",
       "      <td>742.0</td>\n",
       "      <td>0.0</td>\n",
       "      <td>0.0</td>\n",
       "      <td>...</td>\n",
       "      <td>1.68</td>\n",
       "      <td>0.0</td>\n",
       "      <td>0.0</td>\n",
       "      <td>0.0</td>\n",
       "      <td>0.0</td>\n",
       "      <td>0.0</td>\n",
       "      <td>0.0</td>\n",
       "      <td>0.0</td>\n",
       "      <td>16265.21601</td>\n",
       "      <td>95.521016</td>\n",
       "    </tr>\n",
       "  </tbody>\n",
       "</table>\n",
       "<p>2 rows × 45 columns</p>\n",
       "</div>"
      ],
      "text/plain": [
       "                     geometry  LC_Type1_mode  \\\n",
       "0  POINT (34.26000 -15.91000)              9   \n",
       "1  POINT (34.26000 -15.90000)              9   \n",
       "\n",
       "                              Square_ID  Typographic_position_index      X  \\\n",
       "0  4e3c3896-14ce-11ea-bce5-f49634744a41                        57.0  34.26   \n",
       "1  4e3c3897-14ce-11ea-bce5-f49634744a41                       112.0  34.26   \n",
       "\n",
       "       Y   elevation  malawi_srtm30meters  precip 2014-11-16 - 2014-11-23  \\\n",
       "0 -15.91  887.764222                  0.0                             0.0   \n",
       "1 -15.90  743.403912                742.0                             0.0   \n",
       "\n",
       "   precip 2014-11-23 - 2014-11-30  ...  precip 2019-03-31 - 2019-04-07  \\\n",
       "0                             0.0  ...                            1.68   \n",
       "1                             0.0  ...                            1.68   \n",
       "\n",
       "   precip 2019-04-07 - 2019-04-14  precip 2019-04-14 - 2019-04-21  \\\n",
       "0                             0.0                             0.0   \n",
       "1                             0.0                             0.0   \n",
       "\n",
       "   precip 2019-04-21 - 2019-04-28  precip 2019-04-28 - 2019-05-05  \\\n",
       "0                             0.0                             0.0   \n",
       "1                             0.0                             0.0   \n",
       "\n",
       "   precip 2019-05-05 - 2019-05-12  precip 2019-05-12 - 2019-05-19  \\\n",
       "0                             0.0                             0.0   \n",
       "1                             0.0                             0.0   \n",
       "\n",
       "   target_2015  wetland_distance   majority  \n",
       "0          0.0       15953.46574  95.388485  \n",
       "1          0.0       16265.21601  95.521016  \n",
       "\n",
       "[2 rows x 45 columns]"
      ]
     },
     "execution_count": 43,
     "metadata": {},
     "output_type": "execute_result"
    }
   ],
   "source": [
    "# Turn extracted data into a pandas geodataframe\n",
    "malawi_poverty_df = gpd.GeoDataFrame.from_features(malawi_poverty)\n",
    "malawi_poverty_df.head(2)"
   ]
  },
  {
   "cell_type": "code",
   "execution_count": 44,
   "metadata": {},
   "outputs": [],
   "source": [
    "malawi_poverty_df.to_csv('newdata3.csv', index=False)"
   ]
  },
  {
   "cell_type": "code",
   "execution_count": 45,
   "metadata": {},
   "outputs": [
    {
     "data": {
      "text/plain": [
       "0"
      ]
     },
     "execution_count": 45,
     "metadata": {},
     "output_type": "execute_result"
    }
   ],
   "source": [
    "# find if there are rows with no data\n",
    "len(malawi_poverty_df[malawi_poverty_df['majority'].isna()])"
   ]
  },
  {
   "cell_type": "code",
   "execution_count": 46,
   "metadata": {},
   "outputs": [],
   "source": [
    "# Replace negative values with 0\n",
    "malawi_poverty_df['majority'][malawi_poverty_df['majority'] < 0] = 0"
   ]
  },
  {
   "cell_type": "code",
   "execution_count": 47,
   "metadata": {},
   "outputs": [],
   "source": [
    "# Join with points dataset\n",
    "pts['malawi_poverty_level'] =malawi_poverty_df.majority"
   ]
  },
  {
   "cell_type": "code",
   "execution_count": 48,
   "metadata": {},
   "outputs": [
    {
     "data": {
      "text/html": [
       "<div>\n",
       "<style scoped>\n",
       "    .dataframe tbody tr th:only-of-type {\n",
       "        vertical-align: middle;\n",
       "    }\n",
       "\n",
       "    .dataframe tbody tr th {\n",
       "        vertical-align: top;\n",
       "    }\n",
       "\n",
       "    .dataframe thead th {\n",
       "        text-align: right;\n",
       "    }\n",
       "</style>\n",
       "<table border=\"1\" class=\"dataframe\">\n",
       "  <thead>\n",
       "    <tr style=\"text-align: right;\">\n",
       "      <th></th>\n",
       "      <th>X</th>\n",
       "      <th>Y</th>\n",
       "      <th>target_2015</th>\n",
       "      <th>elevation</th>\n",
       "      <th>precip 2014-11-16 - 2014-11-23</th>\n",
       "      <th>precip 2014-11-23 - 2014-11-30</th>\n",
       "      <th>precip 2014-11-30 - 2014-12-07</th>\n",
       "      <th>precip 2014-12-07 - 2014-12-14</th>\n",
       "      <th>precip 2014-12-14 - 2014-12-21</th>\n",
       "      <th>precip 2014-12-21 - 2014-12-28</th>\n",
       "      <th>...</th>\n",
       "      <th>precip 2019-04-28 - 2019-05-05</th>\n",
       "      <th>precip 2019-05-05 - 2019-05-12</th>\n",
       "      <th>precip 2019-05-12 - 2019-05-19</th>\n",
       "      <th>LC_Type1_mode</th>\n",
       "      <th>Square_ID</th>\n",
       "      <th>geometry</th>\n",
       "      <th>Typographic_position_index</th>\n",
       "      <th>wetland_distance</th>\n",
       "      <th>malawi_srtm30meters</th>\n",
       "      <th>malawi_poverty_level</th>\n",
       "    </tr>\n",
       "  </thead>\n",
       "  <tbody>\n",
       "    <tr>\n",
       "      <td>0</td>\n",
       "      <td>34.26</td>\n",
       "      <td>-15.91</td>\n",
       "      <td>0.0</td>\n",
       "      <td>887.764222</td>\n",
       "      <td>0.0</td>\n",
       "      <td>0.0</td>\n",
       "      <td>0.0</td>\n",
       "      <td>14.844025</td>\n",
       "      <td>14.552823</td>\n",
       "      <td>12.237766</td>\n",
       "      <td>...</td>\n",
       "      <td>0.0</td>\n",
       "      <td>0.0</td>\n",
       "      <td>0.0</td>\n",
       "      <td>9</td>\n",
       "      <td>4e3c3896-14ce-11ea-bce5-f49634744a41</td>\n",
       "      <td>POINT (34.26000 -15.91000)</td>\n",
       "      <td>57.0</td>\n",
       "      <td>15953.465740</td>\n",
       "      <td>0.0</td>\n",
       "      <td>95.388485</td>\n",
       "    </tr>\n",
       "    <tr>\n",
       "      <td>1</td>\n",
       "      <td>34.26</td>\n",
       "      <td>-15.90</td>\n",
       "      <td>0.0</td>\n",
       "      <td>743.403912</td>\n",
       "      <td>0.0</td>\n",
       "      <td>0.0</td>\n",
       "      <td>0.0</td>\n",
       "      <td>14.844025</td>\n",
       "      <td>14.552823</td>\n",
       "      <td>12.237766</td>\n",
       "      <td>...</td>\n",
       "      <td>0.0</td>\n",
       "      <td>0.0</td>\n",
       "      <td>0.0</td>\n",
       "      <td>9</td>\n",
       "      <td>4e3c3897-14ce-11ea-bce5-f49634744a41</td>\n",
       "      <td>POINT (34.26000 -15.90000)</td>\n",
       "      <td>112.0</td>\n",
       "      <td>16265.216010</td>\n",
       "      <td>742.0</td>\n",
       "      <td>95.521016</td>\n",
       "    </tr>\n",
       "    <tr>\n",
       "      <td>2</td>\n",
       "      <td>34.26</td>\n",
       "      <td>-15.89</td>\n",
       "      <td>0.0</td>\n",
       "      <td>565.728343</td>\n",
       "      <td>0.0</td>\n",
       "      <td>0.0</td>\n",
       "      <td>0.0</td>\n",
       "      <td>14.844025</td>\n",
       "      <td>14.552823</td>\n",
       "      <td>12.237766</td>\n",
       "      <td>...</td>\n",
       "      <td>0.0</td>\n",
       "      <td>0.0</td>\n",
       "      <td>0.0</td>\n",
       "      <td>9</td>\n",
       "      <td>4e3c3898-14ce-11ea-bce5-f49634744a41</td>\n",
       "      <td>POINT (34.26000 -15.89000)</td>\n",
       "      <td>0.0</td>\n",
       "      <td>16645.902409</td>\n",
       "      <td>607.0</td>\n",
       "      <td>95.733085</td>\n",
       "    </tr>\n",
       "    <tr>\n",
       "      <td>3</td>\n",
       "      <td>34.26</td>\n",
       "      <td>-15.88</td>\n",
       "      <td>0.0</td>\n",
       "      <td>443.392774</td>\n",
       "      <td>0.0</td>\n",
       "      <td>0.0</td>\n",
       "      <td>0.0</td>\n",
       "      <td>14.844025</td>\n",
       "      <td>14.552823</td>\n",
       "      <td>12.237766</td>\n",
       "      <td>...</td>\n",
       "      <td>0.0</td>\n",
       "      <td>0.0</td>\n",
       "      <td>0.0</td>\n",
       "      <td>10</td>\n",
       "      <td>4e3c3899-14ce-11ea-bce5-f49634744a41</td>\n",
       "      <td>POINT (34.26000 -15.88000)</td>\n",
       "      <td>-4.0</td>\n",
       "      <td>17087.784546</td>\n",
       "      <td>436.0</td>\n",
       "      <td>96.254659</td>\n",
       "    </tr>\n",
       "    <tr>\n",
       "      <td>4</td>\n",
       "      <td>34.26</td>\n",
       "      <td>-15.87</td>\n",
       "      <td>0.0</td>\n",
       "      <td>437.443428</td>\n",
       "      <td>0.0</td>\n",
       "      <td>0.0</td>\n",
       "      <td>0.0</td>\n",
       "      <td>14.844025</td>\n",
       "      <td>14.552823</td>\n",
       "      <td>12.237766</td>\n",
       "      <td>...</td>\n",
       "      <td>0.0</td>\n",
       "      <td>0.0</td>\n",
       "      <td>0.0</td>\n",
       "      <td>10</td>\n",
       "      <td>4e3c389a-14ce-11ea-bce5-f49634744a41</td>\n",
       "      <td>POINT (34.26000 -15.87000)</td>\n",
       "      <td>3.0</td>\n",
       "      <td>17589.245651</td>\n",
       "      <td>486.0</td>\n",
       "      <td>95.665613</td>\n",
       "    </tr>\n",
       "  </tbody>\n",
       "</table>\n",
       "<p>5 rows × 45 columns</p>\n",
       "</div>"
      ],
      "text/plain": [
       "       X      Y  target_2015   elevation  precip 2014-11-16 - 2014-11-23  \\\n",
       "0  34.26 -15.91          0.0  887.764222                             0.0   \n",
       "1  34.26 -15.90          0.0  743.403912                             0.0   \n",
       "2  34.26 -15.89          0.0  565.728343                             0.0   \n",
       "3  34.26 -15.88          0.0  443.392774                             0.0   \n",
       "4  34.26 -15.87          0.0  437.443428                             0.0   \n",
       "\n",
       "   precip 2014-11-23 - 2014-11-30  precip 2014-11-30 - 2014-12-07  \\\n",
       "0                             0.0                             0.0   \n",
       "1                             0.0                             0.0   \n",
       "2                             0.0                             0.0   \n",
       "3                             0.0                             0.0   \n",
       "4                             0.0                             0.0   \n",
       "\n",
       "   precip 2014-12-07 - 2014-12-14  precip 2014-12-14 - 2014-12-21  \\\n",
       "0                       14.844025                       14.552823   \n",
       "1                       14.844025                       14.552823   \n",
       "2                       14.844025                       14.552823   \n",
       "3                       14.844025                       14.552823   \n",
       "4                       14.844025                       14.552823   \n",
       "\n",
       "   precip 2014-12-21 - 2014-12-28  ...  precip 2019-04-28 - 2019-05-05  \\\n",
       "0                       12.237766  ...                             0.0   \n",
       "1                       12.237766  ...                             0.0   \n",
       "2                       12.237766  ...                             0.0   \n",
       "3                       12.237766  ...                             0.0   \n",
       "4                       12.237766  ...                             0.0   \n",
       "\n",
       "   precip 2019-05-05 - 2019-05-12  precip 2019-05-12 - 2019-05-19  \\\n",
       "0                             0.0                             0.0   \n",
       "1                             0.0                             0.0   \n",
       "2                             0.0                             0.0   \n",
       "3                             0.0                             0.0   \n",
       "4                             0.0                             0.0   \n",
       "\n",
       "   LC_Type1_mode                             Square_ID  \\\n",
       "0              9  4e3c3896-14ce-11ea-bce5-f49634744a41   \n",
       "1              9  4e3c3897-14ce-11ea-bce5-f49634744a41   \n",
       "2              9  4e3c3898-14ce-11ea-bce5-f49634744a41   \n",
       "3             10  4e3c3899-14ce-11ea-bce5-f49634744a41   \n",
       "4             10  4e3c389a-14ce-11ea-bce5-f49634744a41   \n",
       "\n",
       "                     geometry  Typographic_position_index  wetland_distance  \\\n",
       "0  POINT (34.26000 -15.91000)                        57.0      15953.465740   \n",
       "1  POINT (34.26000 -15.90000)                       112.0      16265.216010   \n",
       "2  POINT (34.26000 -15.89000)                         0.0      16645.902409   \n",
       "3  POINT (34.26000 -15.88000)                        -4.0      17087.784546   \n",
       "4  POINT (34.26000 -15.87000)                         3.0      17589.245651   \n",
       "\n",
       "   malawi_srtm30meters  malawi_poverty_level  \n",
       "0                  0.0             95.388485  \n",
       "1                742.0             95.521016  \n",
       "2                607.0             95.733085  \n",
       "3                436.0             96.254659  \n",
       "4                486.0             95.665613  \n",
       "\n",
       "[5 rows x 45 columns]"
      ]
     },
     "execution_count": 48,
     "metadata": {},
     "output_type": "execute_result"
    }
   ],
   "source": [
    "pts.head()"
   ]
  },
  {
   "cell_type": "code",
   "execution_count": 49,
   "metadata": {},
   "outputs": [],
   "source": [
    "pts.to_csv('externaldata.csv', index=False)"
   ]
  },
  {
   "cell_type": "markdown",
   "metadata": {},
   "source": [
    "# QUERY STARTS"
   ]
  },
  {
   "cell_type": "code",
   "execution_count": 50,
   "metadata": {},
   "outputs": [],
   "source": [
    "samp = pd.read_csv(r'C:\\Users\\DELL\\Desktop\\Hackhathons\\flood\\SampleSubmission.csv')\n",
    "df = pd.read_csv(r'C:\\Users\\DELL\\Desktop\\zindi\\\\externaldata.csv')"
   ]
  },
  {
   "cell_type": "code",
   "execution_count": 51,
   "metadata": {},
   "outputs": [
    {
     "data": {
      "text/html": [
       "<div>\n",
       "<style scoped>\n",
       "    .dataframe tbody tr th:only-of-type {\n",
       "        vertical-align: middle;\n",
       "    }\n",
       "\n",
       "    .dataframe tbody tr th {\n",
       "        vertical-align: top;\n",
       "    }\n",
       "\n",
       "    .dataframe thead th {\n",
       "        text-align: right;\n",
       "    }\n",
       "</style>\n",
       "<table border=\"1\" class=\"dataframe\">\n",
       "  <thead>\n",
       "    <tr style=\"text-align: right;\">\n",
       "      <th></th>\n",
       "      <th>X</th>\n",
       "      <th>Y</th>\n",
       "      <th>target_2015</th>\n",
       "      <th>elevation</th>\n",
       "      <th>precip 2014-11-16 - 2014-11-23</th>\n",
       "      <th>precip 2014-11-23 - 2014-11-30</th>\n",
       "      <th>precip 2014-11-30 - 2014-12-07</th>\n",
       "      <th>precip 2014-12-07 - 2014-12-14</th>\n",
       "      <th>precip 2014-12-14 - 2014-12-21</th>\n",
       "      <th>precip 2014-12-21 - 2014-12-28</th>\n",
       "      <th>...</th>\n",
       "      <th>precip 2019-04-28 - 2019-05-05</th>\n",
       "      <th>precip 2019-05-05 - 2019-05-12</th>\n",
       "      <th>precip 2019-05-12 - 2019-05-19</th>\n",
       "      <th>LC_Type1_mode</th>\n",
       "      <th>Square_ID</th>\n",
       "      <th>geometry</th>\n",
       "      <th>Typographic_position_index</th>\n",
       "      <th>wetland_distance</th>\n",
       "      <th>malawi_srtm30meters</th>\n",
       "      <th>malawi_poverty_level</th>\n",
       "    </tr>\n",
       "  </thead>\n",
       "  <tbody>\n",
       "    <tr>\n",
       "      <td>0</td>\n",
       "      <td>34.26</td>\n",
       "      <td>-15.91</td>\n",
       "      <td>0.0</td>\n",
       "      <td>887.764222</td>\n",
       "      <td>0.0</td>\n",
       "      <td>0.0</td>\n",
       "      <td>0.0</td>\n",
       "      <td>14.844025</td>\n",
       "      <td>14.552823</td>\n",
       "      <td>12.237766</td>\n",
       "      <td>...</td>\n",
       "      <td>0.0</td>\n",
       "      <td>0.0</td>\n",
       "      <td>0.0</td>\n",
       "      <td>9</td>\n",
       "      <td>4e3c3896-14ce-11ea-bce5-f49634744a41</td>\n",
       "      <td>POINT (34.26 -15.91)</td>\n",
       "      <td>57.0</td>\n",
       "      <td>15953.465740</td>\n",
       "      <td>0.0</td>\n",
       "      <td>95.388485</td>\n",
       "    </tr>\n",
       "    <tr>\n",
       "      <td>1</td>\n",
       "      <td>34.26</td>\n",
       "      <td>-15.90</td>\n",
       "      <td>0.0</td>\n",
       "      <td>743.403912</td>\n",
       "      <td>0.0</td>\n",
       "      <td>0.0</td>\n",
       "      <td>0.0</td>\n",
       "      <td>14.844025</td>\n",
       "      <td>14.552823</td>\n",
       "      <td>12.237766</td>\n",
       "      <td>...</td>\n",
       "      <td>0.0</td>\n",
       "      <td>0.0</td>\n",
       "      <td>0.0</td>\n",
       "      <td>9</td>\n",
       "      <td>4e3c3897-14ce-11ea-bce5-f49634744a41</td>\n",
       "      <td>POINT (34.26 -15.9)</td>\n",
       "      <td>112.0</td>\n",
       "      <td>16265.216010</td>\n",
       "      <td>742.0</td>\n",
       "      <td>95.521016</td>\n",
       "    </tr>\n",
       "    <tr>\n",
       "      <td>2</td>\n",
       "      <td>34.26</td>\n",
       "      <td>-15.89</td>\n",
       "      <td>0.0</td>\n",
       "      <td>565.728343</td>\n",
       "      <td>0.0</td>\n",
       "      <td>0.0</td>\n",
       "      <td>0.0</td>\n",
       "      <td>14.844025</td>\n",
       "      <td>14.552823</td>\n",
       "      <td>12.237766</td>\n",
       "      <td>...</td>\n",
       "      <td>0.0</td>\n",
       "      <td>0.0</td>\n",
       "      <td>0.0</td>\n",
       "      <td>9</td>\n",
       "      <td>4e3c3898-14ce-11ea-bce5-f49634744a41</td>\n",
       "      <td>POINT (34.26 -15.89)</td>\n",
       "      <td>0.0</td>\n",
       "      <td>16645.902409</td>\n",
       "      <td>607.0</td>\n",
       "      <td>95.733085</td>\n",
       "    </tr>\n",
       "    <tr>\n",
       "      <td>3</td>\n",
       "      <td>34.26</td>\n",
       "      <td>-15.88</td>\n",
       "      <td>0.0</td>\n",
       "      <td>443.392774</td>\n",
       "      <td>0.0</td>\n",
       "      <td>0.0</td>\n",
       "      <td>0.0</td>\n",
       "      <td>14.844025</td>\n",
       "      <td>14.552823</td>\n",
       "      <td>12.237766</td>\n",
       "      <td>...</td>\n",
       "      <td>0.0</td>\n",
       "      <td>0.0</td>\n",
       "      <td>0.0</td>\n",
       "      <td>10</td>\n",
       "      <td>4e3c3899-14ce-11ea-bce5-f49634744a41</td>\n",
       "      <td>POINT (34.26 -15.88)</td>\n",
       "      <td>-4.0</td>\n",
       "      <td>17087.784546</td>\n",
       "      <td>436.0</td>\n",
       "      <td>96.254659</td>\n",
       "    </tr>\n",
       "    <tr>\n",
       "      <td>4</td>\n",
       "      <td>34.26</td>\n",
       "      <td>-15.87</td>\n",
       "      <td>0.0</td>\n",
       "      <td>437.443428</td>\n",
       "      <td>0.0</td>\n",
       "      <td>0.0</td>\n",
       "      <td>0.0</td>\n",
       "      <td>14.844025</td>\n",
       "      <td>14.552823</td>\n",
       "      <td>12.237766</td>\n",
       "      <td>...</td>\n",
       "      <td>0.0</td>\n",
       "      <td>0.0</td>\n",
       "      <td>0.0</td>\n",
       "      <td>10</td>\n",
       "      <td>4e3c389a-14ce-11ea-bce5-f49634744a41</td>\n",
       "      <td>POINT (34.26 -15.87)</td>\n",
       "      <td>3.0</td>\n",
       "      <td>17589.245651</td>\n",
       "      <td>486.0</td>\n",
       "      <td>95.665613</td>\n",
       "    </tr>\n",
       "  </tbody>\n",
       "</table>\n",
       "<p>5 rows × 45 columns</p>\n",
       "</div>"
      ],
      "text/plain": [
       "       X      Y  target_2015   elevation  precip 2014-11-16 - 2014-11-23  \\\n",
       "0  34.26 -15.91          0.0  887.764222                             0.0   \n",
       "1  34.26 -15.90          0.0  743.403912                             0.0   \n",
       "2  34.26 -15.89          0.0  565.728343                             0.0   \n",
       "3  34.26 -15.88          0.0  443.392774                             0.0   \n",
       "4  34.26 -15.87          0.0  437.443428                             0.0   \n",
       "\n",
       "   precip 2014-11-23 - 2014-11-30  precip 2014-11-30 - 2014-12-07  \\\n",
       "0                             0.0                             0.0   \n",
       "1                             0.0                             0.0   \n",
       "2                             0.0                             0.0   \n",
       "3                             0.0                             0.0   \n",
       "4                             0.0                             0.0   \n",
       "\n",
       "   precip 2014-12-07 - 2014-12-14  precip 2014-12-14 - 2014-12-21  \\\n",
       "0                       14.844025                       14.552823   \n",
       "1                       14.844025                       14.552823   \n",
       "2                       14.844025                       14.552823   \n",
       "3                       14.844025                       14.552823   \n",
       "4                       14.844025                       14.552823   \n",
       "\n",
       "   precip 2014-12-21 - 2014-12-28  ...  precip 2019-04-28 - 2019-05-05  \\\n",
       "0                       12.237766  ...                             0.0   \n",
       "1                       12.237766  ...                             0.0   \n",
       "2                       12.237766  ...                             0.0   \n",
       "3                       12.237766  ...                             0.0   \n",
       "4                       12.237766  ...                             0.0   \n",
       "\n",
       "   precip 2019-05-05 - 2019-05-12  precip 2019-05-12 - 2019-05-19  \\\n",
       "0                             0.0                             0.0   \n",
       "1                             0.0                             0.0   \n",
       "2                             0.0                             0.0   \n",
       "3                             0.0                             0.0   \n",
       "4                             0.0                             0.0   \n",
       "\n",
       "   LC_Type1_mode                             Square_ID              geometry  \\\n",
       "0              9  4e3c3896-14ce-11ea-bce5-f49634744a41  POINT (34.26 -15.91)   \n",
       "1              9  4e3c3897-14ce-11ea-bce5-f49634744a41   POINT (34.26 -15.9)   \n",
       "2              9  4e3c3898-14ce-11ea-bce5-f49634744a41  POINT (34.26 -15.89)   \n",
       "3             10  4e3c3899-14ce-11ea-bce5-f49634744a41  POINT (34.26 -15.88)   \n",
       "4             10  4e3c389a-14ce-11ea-bce5-f49634744a41  POINT (34.26 -15.87)   \n",
       "\n",
       "   Typographic_position_index  wetland_distance  malawi_srtm30meters  \\\n",
       "0                        57.0      15953.465740                  0.0   \n",
       "1                       112.0      16265.216010                742.0   \n",
       "2                         0.0      16645.902409                607.0   \n",
       "3                        -4.0      17087.784546                436.0   \n",
       "4                         3.0      17589.245651                486.0   \n",
       "\n",
       "   malawi_poverty_level  \n",
       "0             95.388485  \n",
       "1             95.521016  \n",
       "2             95.733085  \n",
       "3             96.254659  \n",
       "4             95.665613  \n",
       "\n",
       "[5 rows x 45 columns]"
      ]
     },
     "execution_count": 51,
     "metadata": {},
     "output_type": "execute_result"
    }
   ],
   "source": [
    "df.head()"
   ]
  },
  {
   "cell_type": "code",
   "execution_count": 52,
   "metadata": {},
   "outputs": [],
   "source": [
    "# Creating lists of columns to be used in separating the dataframe into training and testing datasets\n",
    "# Using a for loop for efficiency\n",
    "precip_features_2019 = []\n",
    "precip_features_2015 = []\n",
    "for col in df.columns:\n",
    "  if '2019' in col:\n",
    "    precip_features_2019.append(col)\n",
    "  elif 'precip 2014' in col:\n",
    "    precip_features_2015.append(col)\n",
    "  elif 'precip 2015' in col:\n",
    "    precip_features_2015.append(col)"
   ]
  },
  {
   "cell_type": "code",
   "execution_count": 53,
   "metadata": {},
   "outputs": [
    {
     "data": {
      "text/html": [
       "<div>\n",
       "<style scoped>\n",
       "    .dataframe tbody tr th:only-of-type {\n",
       "        vertical-align: middle;\n",
       "    }\n",
       "\n",
       "    .dataframe tbody tr th {\n",
       "        vertical-align: top;\n",
       "    }\n",
       "\n",
       "    .dataframe thead th {\n",
       "        text-align: right;\n",
       "    }\n",
       "</style>\n",
       "<table border=\"1\" class=\"dataframe\">\n",
       "  <thead>\n",
       "    <tr style=\"text-align: right;\">\n",
       "      <th></th>\n",
       "      <th>LC_Type1_mode</th>\n",
       "      <th>Square_ID</th>\n",
       "      <th>Typographic_position_index</th>\n",
       "      <th>X</th>\n",
       "      <th>Y</th>\n",
       "      <th>elevation</th>\n",
       "      <th>geometry</th>\n",
       "      <th>malawi_poverty_level</th>\n",
       "      <th>malawi_srtm30meters</th>\n",
       "      <th>precip 2014-11-16 - 2014-11-23</th>\n",
       "      <th>...</th>\n",
       "      <th>precip 2015-01-18 - 2015-01-25</th>\n",
       "      <th>precip 2015-01-25 - 2015-02-01</th>\n",
       "      <th>precip 2015-02-01 - 2015-02-08</th>\n",
       "      <th>precip 2015-02-08 - 2015-02-15</th>\n",
       "      <th>precip 2015-02-15 - 2015-02-22</th>\n",
       "      <th>precip 2015-02-22 - 2015-03-01</th>\n",
       "      <th>precip 2015-03-01 - 2015-03-08</th>\n",
       "      <th>precip 2015-03-08 - 2015-03-15</th>\n",
       "      <th>target_2015</th>\n",
       "      <th>wetland_distance</th>\n",
       "    </tr>\n",
       "  </thead>\n",
       "  <tbody>\n",
       "    <tr>\n",
       "      <td>0</td>\n",
       "      <td>9</td>\n",
       "      <td>4e3c3896-14ce-11ea-bce5-f49634744a41</td>\n",
       "      <td>57.0</td>\n",
       "      <td>34.26</td>\n",
       "      <td>-15.91</td>\n",
       "      <td>887.764222</td>\n",
       "      <td>POINT (34.26 -15.91)</td>\n",
       "      <td>95.388485</td>\n",
       "      <td>0.0</td>\n",
       "      <td>0.0</td>\n",
       "      <td>...</td>\n",
       "      <td>1.521829</td>\n",
       "      <td>29.389995</td>\n",
       "      <td>32.878318</td>\n",
       "      <td>8.179804</td>\n",
       "      <td>0.963981</td>\n",
       "      <td>16.659097</td>\n",
       "      <td>3.304466</td>\n",
       "      <td>0.0</td>\n",
       "      <td>0.0</td>\n",
       "      <td>15953.46574</td>\n",
       "    </tr>\n",
       "    <tr>\n",
       "      <td>1</td>\n",
       "      <td>9</td>\n",
       "      <td>4e3c3897-14ce-11ea-bce5-f49634744a41</td>\n",
       "      <td>112.0</td>\n",
       "      <td>34.26</td>\n",
       "      <td>-15.90</td>\n",
       "      <td>743.403912</td>\n",
       "      <td>POINT (34.26 -15.9)</td>\n",
       "      <td>95.521016</td>\n",
       "      <td>742.0</td>\n",
       "      <td>0.0</td>\n",
       "      <td>...</td>\n",
       "      <td>1.521829</td>\n",
       "      <td>29.389995</td>\n",
       "      <td>32.878318</td>\n",
       "      <td>8.179804</td>\n",
       "      <td>0.963981</td>\n",
       "      <td>16.659097</td>\n",
       "      <td>3.304466</td>\n",
       "      <td>0.0</td>\n",
       "      <td>0.0</td>\n",
       "      <td>16265.21601</td>\n",
       "    </tr>\n",
       "  </tbody>\n",
       "</table>\n",
       "<p>2 rows × 28 columns</p>\n",
       "</div>"
      ],
      "text/plain": [
       "   LC_Type1_mode                             Square_ID  \\\n",
       "0              9  4e3c3896-14ce-11ea-bce5-f49634744a41   \n",
       "1              9  4e3c3897-14ce-11ea-bce5-f49634744a41   \n",
       "\n",
       "   Typographic_position_index      X      Y   elevation              geometry  \\\n",
       "0                        57.0  34.26 -15.91  887.764222  POINT (34.26 -15.91)   \n",
       "1                       112.0  34.26 -15.90  743.403912   POINT (34.26 -15.9)   \n",
       "\n",
       "   malawi_poverty_level  malawi_srtm30meters  precip 2014-11-16 - 2014-11-23  \\\n",
       "0             95.388485                  0.0                             0.0   \n",
       "1             95.521016                742.0                             0.0   \n",
       "\n",
       "   ...  precip 2015-01-18 - 2015-01-25  precip 2015-01-25 - 2015-02-01  \\\n",
       "0  ...                        1.521829                       29.389995   \n",
       "1  ...                        1.521829                       29.389995   \n",
       "\n",
       "   precip 2015-02-01 - 2015-02-08  precip 2015-02-08 - 2015-02-15  \\\n",
       "0                       32.878318                        8.179804   \n",
       "1                       32.878318                        8.179804   \n",
       "\n",
       "   precip 2015-02-15 - 2015-02-22  precip 2015-02-22 - 2015-03-01  \\\n",
       "0                        0.963981                       16.659097   \n",
       "1                        0.963981                       16.659097   \n",
       "\n",
       "   precip 2015-03-01 - 2015-03-08  precip 2015-03-08 - 2015-03-15  \\\n",
       "0                        3.304466                             0.0   \n",
       "1                        3.304466                             0.0   \n",
       "\n",
       "   target_2015  wetland_distance  \n",
       "0          0.0       15953.46574  \n",
       "1          0.0       16265.21601  \n",
       "\n",
       "[2 rows x 28 columns]"
      ]
     },
     "execution_count": 53,
     "metadata": {},
     "output_type": "execute_result"
    }
   ],
   "source": [
    " #Separating the train dataset from the main dataframe\n",
    "train = df[df.columns.difference(precip_features_2019)]\n",
    "train.head(2)"
   ]
  },
  {
   "cell_type": "code",
   "execution_count": 54,
   "metadata": {},
   "outputs": [
    {
     "data": {
      "text/plain": [
       "Index(['LC_Type1_mode', 'Square_ID', 'Typographic_position_index', 'X', 'Y',\n",
       "       'elevation', 'geometry', 'malawi_poverty_level', 'malawi_srtm30meters',\n",
       "       'precip 2014-11-16 - 2014-11-23', 'precip 2014-11-23 - 2014-11-30',\n",
       "       'precip 2014-11-30 - 2014-12-07', 'precip 2014-12-07 - 2014-12-14',\n",
       "       'precip 2014-12-14 - 2014-12-21', 'precip 2014-12-21 - 2014-12-28',\n",
       "       'precip 2014-12-28 - 2015-01-04', 'precip 2015-01-04 - 2015-01-11',\n",
       "       'precip 2015-01-11 - 2015-01-18', 'precip 2015-01-18 - 2015-01-25',\n",
       "       'precip 2015-01-25 - 2015-02-01', 'precip 2015-02-01 - 2015-02-08',\n",
       "       'precip 2015-02-08 - 2015-02-15', 'precip 2015-02-15 - 2015-02-22',\n",
       "       'precip 2015-02-22 - 2015-03-01', 'precip 2015-03-01 - 2015-03-08',\n",
       "       'precip 2015-03-08 - 2015-03-15', 'target_2015', 'wetland_distance'],\n",
       "      dtype='object')"
      ]
     },
     "execution_count": 54,
     "metadata": {},
     "output_type": "execute_result"
    }
   ],
   "source": [
    "train.columns"
   ]
  },
  {
   "cell_type": "code",
   "execution_count": 55,
   "metadata": {},
   "outputs": [
    {
     "data": {
      "text/html": [
       "<div>\n",
       "<style scoped>\n",
       "    .dataframe tbody tr th:only-of-type {\n",
       "        vertical-align: middle;\n",
       "    }\n",
       "\n",
       "    .dataframe tbody tr th {\n",
       "        vertical-align: top;\n",
       "    }\n",
       "\n",
       "    .dataframe thead th {\n",
       "        text-align: right;\n",
       "    }\n",
       "</style>\n",
       "<table border=\"1\" class=\"dataframe\">\n",
       "  <thead>\n",
       "    <tr style=\"text-align: right;\">\n",
       "      <th></th>\n",
       "      <th>precip 2019-01-20 - 2019-01-27</th>\n",
       "      <th>precip 2019-01-27 - 2019-02-03</th>\n",
       "      <th>precip 2019-02-03 - 2019-02-10</th>\n",
       "      <th>precip 2019-02-10 - 2019-02-17</th>\n",
       "      <th>precip 2019-02-17 - 2019-02-24</th>\n",
       "      <th>precip 2019-02-24 - 2019-03-03</th>\n",
       "      <th>precip 2019-03-03 - 2019-03-10</th>\n",
       "      <th>precip 2019-03-10 - 2019-03-17</th>\n",
       "      <th>precip 2019-03-17 - 2019-03-24</th>\n",
       "      <th>precip 2019-03-24 - 2019-03-31</th>\n",
       "      <th>...</th>\n",
       "      <th>precip 2019-04-28 - 2019-05-05</th>\n",
       "      <th>precip 2019-05-05 - 2019-05-12</th>\n",
       "      <th>precip 2019-05-12 - 2019-05-19</th>\n",
       "      <th>X</th>\n",
       "      <th>Y</th>\n",
       "      <th>elevation</th>\n",
       "      <th>Typographic_position_index</th>\n",
       "      <th>LC_Type1_mode</th>\n",
       "      <th>Square_ID</th>\n",
       "      <th>wetland_distance</th>\n",
       "    </tr>\n",
       "  </thead>\n",
       "  <tbody>\n",
       "    <tr>\n",
       "      <td>0</td>\n",
       "      <td>12.99262</td>\n",
       "      <td>4.582856</td>\n",
       "      <td>35.037532</td>\n",
       "      <td>4.796012</td>\n",
       "      <td>28.083314</td>\n",
       "      <td>0.0</td>\n",
       "      <td>58.362456</td>\n",
       "      <td>18.264692</td>\n",
       "      <td>17.537486</td>\n",
       "      <td>0.896323</td>\n",
       "      <td>...</td>\n",
       "      <td>0.0</td>\n",
       "      <td>0.0</td>\n",
       "      <td>0.0</td>\n",
       "      <td>34.26</td>\n",
       "      <td>-15.91</td>\n",
       "      <td>887.764222</td>\n",
       "      <td>57.0</td>\n",
       "      <td>9</td>\n",
       "      <td>4e3c3896-14ce-11ea-bce5-f49634744a41</td>\n",
       "      <td>15953.46574</td>\n",
       "    </tr>\n",
       "    <tr>\n",
       "      <td>1</td>\n",
       "      <td>12.99262</td>\n",
       "      <td>4.582856</td>\n",
       "      <td>35.037532</td>\n",
       "      <td>4.796012</td>\n",
       "      <td>28.083314</td>\n",
       "      <td>0.0</td>\n",
       "      <td>58.362456</td>\n",
       "      <td>18.264692</td>\n",
       "      <td>17.537486</td>\n",
       "      <td>0.896323</td>\n",
       "      <td>...</td>\n",
       "      <td>0.0</td>\n",
       "      <td>0.0</td>\n",
       "      <td>0.0</td>\n",
       "      <td>34.26</td>\n",
       "      <td>-15.90</td>\n",
       "      <td>743.403912</td>\n",
       "      <td>112.0</td>\n",
       "      <td>9</td>\n",
       "      <td>4e3c3897-14ce-11ea-bce5-f49634744a41</td>\n",
       "      <td>16265.21601</td>\n",
       "    </tr>\n",
       "  </tbody>\n",
       "</table>\n",
       "<p>2 rows × 24 columns</p>\n",
       "</div>"
      ],
      "text/plain": [
       "   precip 2019-01-20 - 2019-01-27  precip 2019-01-27 - 2019-02-03  \\\n",
       "0                        12.99262                        4.582856   \n",
       "1                        12.99262                        4.582856   \n",
       "\n",
       "   precip 2019-02-03 - 2019-02-10  precip 2019-02-10 - 2019-02-17  \\\n",
       "0                       35.037532                        4.796012   \n",
       "1                       35.037532                        4.796012   \n",
       "\n",
       "   precip 2019-02-17 - 2019-02-24  precip 2019-02-24 - 2019-03-03  \\\n",
       "0                       28.083314                             0.0   \n",
       "1                       28.083314                             0.0   \n",
       "\n",
       "   precip 2019-03-03 - 2019-03-10  precip 2019-03-10 - 2019-03-17  \\\n",
       "0                       58.362456                       18.264692   \n",
       "1                       58.362456                       18.264692   \n",
       "\n",
       "   precip 2019-03-17 - 2019-03-24  precip 2019-03-24 - 2019-03-31  ...  \\\n",
       "0                       17.537486                        0.896323  ...   \n",
       "1                       17.537486                        0.896323  ...   \n",
       "\n",
       "   precip 2019-04-28 - 2019-05-05  precip 2019-05-05 - 2019-05-12  \\\n",
       "0                             0.0                             0.0   \n",
       "1                             0.0                             0.0   \n",
       "\n",
       "   precip 2019-05-12 - 2019-05-19      X      Y   elevation  \\\n",
       "0                             0.0  34.26 -15.91  887.764222   \n",
       "1                             0.0  34.26 -15.90  743.403912   \n",
       "\n",
       "   Typographic_position_index  LC_Type1_mode  \\\n",
       "0                        57.0              9   \n",
       "1                       112.0              9   \n",
       "\n",
       "                              Square_ID  wetland_distance  \n",
       "0  4e3c3896-14ce-11ea-bce5-f49634744a41       15953.46574  \n",
       "1  4e3c3897-14ce-11ea-bce5-f49634744a41       16265.21601  \n",
       "\n",
       "[2 rows x 24 columns]"
      ]
     },
     "execution_count": 55,
     "metadata": {},
     "output_type": "execute_result"
    }
   ],
   "source": [
    "# Separating the test dataset from the main dataframe\n",
    "precip_features_2019.extend(['X','Y','elevation', 'Typographic_position_index','LC_Type1_mode','Square_ID','wetland_distance'])\n",
    "test = df[precip_features_2019]\n",
    "test.head(2)"
   ]
  },
  {
   "cell_type": "code",
   "execution_count": 56,
   "metadata": {},
   "outputs": [
    {
     "data": {
      "text/plain": [
       "<matplotlib.axes._subplots.AxesSubplot at 0x1bb7b301e48>"
      ]
     },
     "execution_count": 56,
     "metadata": {},
     "output_type": "execute_result"
    },
    {
     "data": {
      "image/png": "[encoded data removed]",
      "text/plain": [
       "<Figure size 432x288 with 1 Axes>"
      ]
     },
     "metadata": {
      "needs_background": "light"
     },
     "output_type": "display_data"
    }
   ],
   "source": [
    "sns.scatterplot(x ='Typographic_position_index', y ='target_2015', data =train)"
   ]
  },
  {
   "cell_type": "code",
   "execution_count": 57,
   "metadata": {},
   "outputs": [
    {
     "data": {
      "text/plain": [
       "<matplotlib.axes._subplots.AxesSubplot at 0x1bb06d24d88>"
      ]
     },
     "execution_count": 57,
     "metadata": {},
     "output_type": "execute_result"
    },
    {
     "data": {
      "image/png": "[encoded data removed]",
      "text/plain": [
       "<Figure size 432x288 with 1 Axes>"
      ]
     },
     "metadata": {
      "needs_background": "light"
     },
     "output_type": "display_data"
    }
   ],
   "source": [
    "sns.scatterplot(x ='wetland_distance', y ='target_2015', data =train)"
   ]
  },
  {
   "cell_type": "code",
   "execution_count": 58,
   "metadata": {},
   "outputs": [],
   "source": [
    "# Creating a dictionary of column names to be renamed for the training dataset\n",
    "# The column names are renamed for conveniency\n",
    "new_2015_cols = {}\n",
    "for col, number in zip(precip_features_2015, range(1, len(precip_features_2015) + 1)):\n",
    "  if 'precip' in col:\n",
    "    new_2015_cols[col] = 'week_' + str(number) + '_precip'\n",
    "\n",
    "    \n",
    "# Creating a dictionary of column names to be renamed for the testing dataset\n",
    "new_2019_cols = {}\n",
    "for col, number in zip(precip_features_2019, range(1, len(precip_features_2019) + 1)):\n",
    "  if 'precip' in col:\n",
    "    new_2019_cols[col] = 'week_' + str(number) + '_precip'\n",
    "    \n",
    "# Renaming the columns\n",
    "train.rename(columns = new_2015_cols, inplace = True)\n",
    "test.rename(columns = new_2019_cols, inplace = True)"
   ]
  },
  {
   "cell_type": "code",
   "execution_count": 59,
   "metadata": {},
   "outputs": [
    {
     "data": {
      "text/plain": [
       "Index(['week_1_precip', 'week_2_precip', 'week_3_precip', 'week_4_precip',\n",
       "       'week_5_precip', 'week_6_precip', 'week_7_precip', 'week_8_precip',\n",
       "       'week_9_precip', 'week_10_precip', 'week_11_precip', 'week_12_precip',\n",
       "       'week_13_precip', 'week_14_precip', 'week_15_precip', 'week_16_precip',\n",
       "       'week_17_precip', 'X', 'Y', 'elevation', 'Typographic_position_index',\n",
       "       'LC_Type1_mode', 'Square_ID', 'wetland_distance'],\n",
       "      dtype='object')"
      ]
     },
     "execution_count": 59,
     "metadata": {},
     "output_type": "execute_result"
    }
   ],
   "source": [
    "test.columns"
   ]
  },
  {
   "cell_type": "code",
   "execution_count": 60,
   "metadata": {},
   "outputs": [
    {
     "data": {
      "text/plain": [
       "Index(['LC_Type1_mode', 'Square_ID', 'Typographic_position_index', 'X', 'Y',\n",
       "       'elevation', 'geometry', 'malawi_poverty_level', 'malawi_srtm30meters',\n",
       "       'week_1_precip', 'week_2_precip', 'week_3_precip', 'week_4_precip',\n",
       "       'week_5_precip', 'week_6_precip', 'week_7_precip', 'week_8_precip',\n",
       "       'week_9_precip', 'week_10_precip', 'week_11_precip', 'week_12_precip',\n",
       "       'week_13_precip', 'week_14_precip', 'week_15_precip', 'week_16_precip',\n",
       "       'week_17_precip', 'target_2015', 'wetland_distance'],\n",
       "      dtype='object')"
      ]
     },
     "execution_count": 60,
     "metadata": {},
     "output_type": "execute_result"
    }
   ],
   "source": [
    "train.columns"
   ]
  },
  {
   "cell_type": "code",
   "execution_count": 61,
   "metadata": {},
   "outputs": [],
   "source": [
    "train=train[['week_1_precip', 'week_2_precip', 'week_3_precip', 'week_4_precip',\n",
    "       'week_5_precip', 'week_6_precip', 'week_7_precip', 'week_8_precip',\n",
    "       'week_9_precip', 'week_10_precip', 'week_11_precip', 'week_12_precip',\n",
    "       'week_13_precip', 'week_14_precip', 'week_15_precip', 'week_16_precip',\n",
    "       'week_17_precip', 'X', 'Y', 'elevation', 'Typographic_position_index',\n",
    "       'LC_Type1_mode', 'Square_ID', 'wetland_distance','target_2015']]"
   ]
  },
  {
   "cell_type": "code",
   "execution_count": 62,
   "metadata": {},
   "outputs": [
    {
     "name": "stdout",
     "output_type": "stream",
     "text": [
      "(16466, 25) (16466, 24)\n"
     ]
    }
   ],
   "source": [
    "print(train.shape, test.shape)"
   ]
  },
  {
   "cell_type": "markdown",
   "metadata": {},
   "source": [
    "# OUTLIERS DETECTION"
   ]
  },
  {
   "cell_type": "code",
   "execution_count": 63,
   "metadata": {},
   "outputs": [
    {
     "data": {
      "text/plain": [
       "<matplotlib.axes._subplots.AxesSubplot at 0x1bb06da3408>"
      ]
     },
     "execution_count": 63,
     "metadata": {},
     "output_type": "execute_result"
    },
    {
     "data": {
      "image/png": "[encoded data removed]",
      "text/plain": [
       "<Figure size 432x288 with 1 Axes>"
      ]
     },
     "metadata": {
      "needs_background": "light"
     },
     "output_type": "display_data"
    }
   ],
   "source": [
    "sns.scatterplot(x='week_6_precip', y='week_6_precip', data=train)"
   ]
  },
  {
   "cell_type": "code",
   "execution_count": 64,
   "metadata": {},
   "outputs": [
    {
     "data": {
      "text/plain": [
       "<matplotlib.axes._subplots.AxesSubplot at 0x1bb06ddbd48>"
      ]
     },
     "execution_count": 64,
     "metadata": {},
     "output_type": "execute_result"
    },
    {
     "data": {
      "image/png": "[encoded data removed]",
      "text/plain": [
       "<Figure size 432x288 with 1 Axes>"
      ]
     },
     "metadata": {
      "needs_background": "light"
     },
     "output_type": "display_data"
    }
   ],
   "source": [
    "sns.scatterplot(x='week_16_precip', y='week_16_precip', data=train)"
   ]
  },
  {
   "cell_type": "code",
   "execution_count": 65,
   "metadata": {},
   "outputs": [],
   "source": [
    "wk6 = train[train['week_6_precip'] > 21].index\n",
    "wk13 = train[train['week_13_precip'] > 25].index\n",
    "wk14 = train[train['week_14_precip'] > 14].index\n",
    "wk15 = train[train['week_15_precip'] > 32].index\n",
    "wk16 = train[train['week_16_precip'] > 20].index\n",
    "wk10 = train[train['week_10_precip'] > 9].index"
   ]
  },
  {
   "cell_type": "code",
   "execution_count": 66,
   "metadata": {},
   "outputs": [],
   "source": [
    "# Drop those rows from the training data.\n",
    "train.drop(wk6, axis=0, inplace=True)\n",
    "train.drop(wk13, axis=0, inplace=True)\n",
    "train.drop(wk14, axis=0, inplace=True)\n",
    "train.drop(wk15, axis=0, inplace=True)\n",
    "train.drop(wk10, axis=0, inplace=True)"
   ]
  },
  {
   "cell_type": "code",
   "execution_count": 67,
   "metadata": {},
   "outputs": [
    {
     "data": {
      "text/plain": [
       "['week_1_precip',\n",
       " 'week_2_precip',\n",
       " 'week_3_precip',\n",
       " 'week_4_precip',\n",
       " 'week_5_precip',\n",
       " 'week_6_precip',\n",
       " 'week_7_precip',\n",
       " 'week_8_precip',\n",
       " 'week_9_precip',\n",
       " 'week_10_precip',\n",
       " 'week_11_precip',\n",
       " 'week_12_precip',\n",
       " 'week_13_precip',\n",
       " 'week_14_precip',\n",
       " 'week_15_precip',\n",
       " 'week_16_precip',\n",
       " 'week_17_precip',\n",
       " 'X',\n",
       " 'Y',\n",
       " 'elevation',\n",
       " 'Typographic_position_index',\n",
       " 'LC_Type1_mode',\n",
       " 'Square_ID',\n",
       " 'wetland_distance',\n",
       " 'target_2015']"
      ]
     },
     "execution_count": 67,
     "metadata": {},
     "output_type": "execute_result"
    }
   ],
   "source": [
    "data=pd.concat([train,test],sort=False).reset_index(drop=True)\n",
    "data.columns.tolist()"
   ]
  },
  {
   "cell_type": "code",
   "execution_count": 68,
   "metadata": {},
   "outputs": [],
   "source": [
    "#Manual computation of chikawa and nsaje (latitude and longitude) areas near to the lake\n",
    "data['chikawa_X'] =34.7741\n",
    "data['chikawa_Y'] =-16.1958\n",
    "data['nsaje_X'] =35.2533\n",
    "data['nsaje_Y'] =-16.9206"
   ]
  },
  {
   "cell_type": "code",
   "execution_count": 69,
   "metadata": {},
   "outputs": [
    {
     "data": {
      "text/html": [
       "<div>\n",
       "<style scoped>\n",
       "    .dataframe tbody tr th:only-of-type {\n",
       "        vertical-align: middle;\n",
       "    }\n",
       "\n",
       "    .dataframe tbody tr th {\n",
       "        vertical-align: top;\n",
       "    }\n",
       "\n",
       "    .dataframe thead th {\n",
       "        text-align: right;\n",
       "    }\n",
       "</style>\n",
       "<table border=\"1\" class=\"dataframe\">\n",
       "  <thead>\n",
       "    <tr style=\"text-align: right;\">\n",
       "      <th></th>\n",
       "      <th>week_1_precip</th>\n",
       "      <th>week_2_precip</th>\n",
       "      <th>week_3_precip</th>\n",
       "      <th>week_4_precip</th>\n",
       "      <th>week_5_precip</th>\n",
       "      <th>week_6_precip</th>\n",
       "      <th>week_7_precip</th>\n",
       "      <th>week_8_precip</th>\n",
       "      <th>week_9_precip</th>\n",
       "      <th>week_10_precip</th>\n",
       "      <th>...</th>\n",
       "      <th>elevation</th>\n",
       "      <th>Typographic_position_index</th>\n",
       "      <th>LC_Type1_mode</th>\n",
       "      <th>Square_ID</th>\n",
       "      <th>wetland_distance</th>\n",
       "      <th>target_2015</th>\n",
       "      <th>chikawa_X</th>\n",
       "      <th>chikawa_Y</th>\n",
       "      <th>nsaje_X</th>\n",
       "      <th>nsaje_Y</th>\n",
       "    </tr>\n",
       "  </thead>\n",
       "  <tbody>\n",
       "    <tr>\n",
       "      <td>0</td>\n",
       "      <td>0.0</td>\n",
       "      <td>0.0</td>\n",
       "      <td>0.0</td>\n",
       "      <td>14.844025</td>\n",
       "      <td>14.552823</td>\n",
       "      <td>12.237766</td>\n",
       "      <td>57.451361</td>\n",
       "      <td>30.127047</td>\n",
       "      <td>30.449468</td>\n",
       "      <td>1.521829</td>\n",
       "      <td>...</td>\n",
       "      <td>887.764222</td>\n",
       "      <td>57.0</td>\n",
       "      <td>9</td>\n",
       "      <td>4e3c3896-14ce-11ea-bce5-f49634744a41</td>\n",
       "      <td>15953.465740</td>\n",
       "      <td>0.0</td>\n",
       "      <td>34.7741</td>\n",
       "      <td>-16.1958</td>\n",
       "      <td>35.2533</td>\n",
       "      <td>-16.9206</td>\n",
       "    </tr>\n",
       "    <tr>\n",
       "      <td>1</td>\n",
       "      <td>0.0</td>\n",
       "      <td>0.0</td>\n",
       "      <td>0.0</td>\n",
       "      <td>14.844025</td>\n",
       "      <td>14.552823</td>\n",
       "      <td>12.237766</td>\n",
       "      <td>57.451361</td>\n",
       "      <td>30.127047</td>\n",
       "      <td>30.449468</td>\n",
       "      <td>1.521829</td>\n",
       "      <td>...</td>\n",
       "      <td>743.403912</td>\n",
       "      <td>112.0</td>\n",
       "      <td>9</td>\n",
       "      <td>4e3c3897-14ce-11ea-bce5-f49634744a41</td>\n",
       "      <td>16265.216010</td>\n",
       "      <td>0.0</td>\n",
       "      <td>34.7741</td>\n",
       "      <td>-16.1958</td>\n",
       "      <td>35.2533</td>\n",
       "      <td>-16.9206</td>\n",
       "    </tr>\n",
       "    <tr>\n",
       "      <td>2</td>\n",
       "      <td>0.0</td>\n",
       "      <td>0.0</td>\n",
       "      <td>0.0</td>\n",
       "      <td>14.844025</td>\n",
       "      <td>14.552823</td>\n",
       "      <td>12.237766</td>\n",
       "      <td>57.451361</td>\n",
       "      <td>30.127047</td>\n",
       "      <td>30.449468</td>\n",
       "      <td>1.521829</td>\n",
       "      <td>...</td>\n",
       "      <td>565.728343</td>\n",
       "      <td>0.0</td>\n",
       "      <td>9</td>\n",
       "      <td>4e3c3898-14ce-11ea-bce5-f49634744a41</td>\n",
       "      <td>16645.902409</td>\n",
       "      <td>0.0</td>\n",
       "      <td>34.7741</td>\n",
       "      <td>-16.1958</td>\n",
       "      <td>35.2533</td>\n",
       "      <td>-16.9206</td>\n",
       "    </tr>\n",
       "    <tr>\n",
       "      <td>3</td>\n",
       "      <td>0.0</td>\n",
       "      <td>0.0</td>\n",
       "      <td>0.0</td>\n",
       "      <td>14.844025</td>\n",
       "      <td>14.552823</td>\n",
       "      <td>12.237766</td>\n",
       "      <td>57.451361</td>\n",
       "      <td>30.127047</td>\n",
       "      <td>30.449468</td>\n",
       "      <td>1.521829</td>\n",
       "      <td>...</td>\n",
       "      <td>443.392774</td>\n",
       "      <td>-4.0</td>\n",
       "      <td>10</td>\n",
       "      <td>4e3c3899-14ce-11ea-bce5-f49634744a41</td>\n",
       "      <td>17087.784546</td>\n",
       "      <td>0.0</td>\n",
       "      <td>34.7741</td>\n",
       "      <td>-16.1958</td>\n",
       "      <td>35.2533</td>\n",
       "      <td>-16.9206</td>\n",
       "    </tr>\n",
       "    <tr>\n",
       "      <td>4</td>\n",
       "      <td>0.0</td>\n",
       "      <td>0.0</td>\n",
       "      <td>0.0</td>\n",
       "      <td>14.844025</td>\n",
       "      <td>14.552823</td>\n",
       "      <td>12.237766</td>\n",
       "      <td>57.451361</td>\n",
       "      <td>30.127047</td>\n",
       "      <td>30.449468</td>\n",
       "      <td>1.521829</td>\n",
       "      <td>...</td>\n",
       "      <td>437.443428</td>\n",
       "      <td>3.0</td>\n",
       "      <td>10</td>\n",
       "      <td>4e3c389a-14ce-11ea-bce5-f49634744a41</td>\n",
       "      <td>17589.245651</td>\n",
       "      <td>0.0</td>\n",
       "      <td>34.7741</td>\n",
       "      <td>-16.1958</td>\n",
       "      <td>35.2533</td>\n",
       "      <td>-16.9206</td>\n",
       "    </tr>\n",
       "  </tbody>\n",
       "</table>\n",
       "<p>5 rows × 29 columns</p>\n",
       "</div>"
      ],
      "text/plain": [
       "   week_1_precip  week_2_precip  week_3_precip  week_4_precip  week_5_precip  \\\n",
       "0            0.0            0.0            0.0      14.844025      14.552823   \n",
       "1            0.0            0.0            0.0      14.844025      14.552823   \n",
       "2            0.0            0.0            0.0      14.844025      14.552823   \n",
       "3            0.0            0.0            0.0      14.844025      14.552823   \n",
       "4            0.0            0.0            0.0      14.844025      14.552823   \n",
       "\n",
       "   week_6_precip  week_7_precip  week_8_precip  week_9_precip  week_10_precip  \\\n",
       "0      12.237766      57.451361      30.127047      30.449468        1.521829   \n",
       "1      12.237766      57.451361      30.127047      30.449468        1.521829   \n",
       "2      12.237766      57.451361      30.127047      30.449468        1.521829   \n",
       "3      12.237766      57.451361      30.127047      30.449468        1.521829   \n",
       "4      12.237766      57.451361      30.127047      30.449468        1.521829   \n",
       "\n",
       "   ...   elevation  Typographic_position_index  LC_Type1_mode  \\\n",
       "0  ...  887.764222                        57.0              9   \n",
       "1  ...  743.403912                       112.0              9   \n",
       "2  ...  565.728343                         0.0              9   \n",
       "3  ...  443.392774                        -4.0             10   \n",
       "4  ...  437.443428                         3.0             10   \n",
       "\n",
       "                              Square_ID  wetland_distance  target_2015  \\\n",
       "0  4e3c3896-14ce-11ea-bce5-f49634744a41      15953.465740          0.0   \n",
       "1  4e3c3897-14ce-11ea-bce5-f49634744a41      16265.216010          0.0   \n",
       "2  4e3c3898-14ce-11ea-bce5-f49634744a41      16645.902409          0.0   \n",
       "3  4e3c3899-14ce-11ea-bce5-f49634744a41      17087.784546          0.0   \n",
       "4  4e3c389a-14ce-11ea-bce5-f49634744a41      17589.245651          0.0   \n",
       "\n",
       "   chikawa_X  chikawa_Y  nsaje_X  nsaje_Y  \n",
       "0    34.7741   -16.1958  35.2533 -16.9206  \n",
       "1    34.7741   -16.1958  35.2533 -16.9206  \n",
       "2    34.7741   -16.1958  35.2533 -16.9206  \n",
       "3    34.7741   -16.1958  35.2533 -16.9206  \n",
       "4    34.7741   -16.1958  35.2533 -16.9206  \n",
       "\n",
       "[5 rows x 29 columns]"
      ]
     },
     "execution_count": 69,
     "metadata": {},
     "output_type": "execute_result"
    }
   ],
   "source": [
    "data.head()"
   ]
  },
  {
   "cell_type": "code",
   "execution_count": 70,
   "metadata": {},
   "outputs": [],
   "source": [
    "from geopy.distance import vincenty"
   ]
  },
  {
   "cell_type": "code",
   "execution_count": 71,
   "metadata": {},
   "outputs": [],
   "source": [
    "def distance_calc (row):\n",
    "    start = (row['nsaje_X'], row['nsaje_Y'])\n",
    "    stop = (row['X'], row['Y'])\n",
    "\n",
    "    return vincenty(start, stop).meters"
   ]
  },
  {
   "cell_type": "code",
   "execution_count": 72,
   "metadata": {},
   "outputs": [],
   "source": [
    "def distance_calc2(row):\n",
    "    start = (row['chikawa_X'], row['chikawa_X'])\n",
    "    stop = (row['X'], row['Y'])\n",
    "\n",
    "    return vincenty(start, stop).meters"
   ]
  },
  {
   "cell_type": "code",
   "execution_count": 73,
   "metadata": {},
   "outputs": [],
   "source": [
    "data['from_chikawa_to_axis'] = data.apply (lambda row: distance_calc2(row),axis=1)"
   ]
  },
  {
   "cell_type": "code",
   "execution_count": 74,
   "metadata": {},
   "outputs": [],
   "source": [
    "data['from_nsaje_to_axis'] = data.apply (lambda row: distance_calc (row),axis=1)"
   ]
  },
  {
   "cell_type": "code",
   "execution_count": 75,
   "metadata": {},
   "outputs": [
    {
     "data": {
      "text/html": [
       "<div>\n",
       "<style scoped>\n",
       "    .dataframe tbody tr th:only-of-type {\n",
       "        vertical-align: middle;\n",
       "    }\n",
       "\n",
       "    .dataframe tbody tr th {\n",
       "        vertical-align: top;\n",
       "    }\n",
       "\n",
       "    .dataframe thead th {\n",
       "        text-align: right;\n",
       "    }\n",
       "</style>\n",
       "<table border=\"1\" class=\"dataframe\">\n",
       "  <thead>\n",
       "    <tr style=\"text-align: right;\">\n",
       "      <th></th>\n",
       "      <th>week_1_precip</th>\n",
       "      <th>week_2_precip</th>\n",
       "      <th>week_3_precip</th>\n",
       "      <th>week_4_precip</th>\n",
       "      <th>week_5_precip</th>\n",
       "      <th>week_6_precip</th>\n",
       "      <th>week_7_precip</th>\n",
       "      <th>week_8_precip</th>\n",
       "      <th>week_9_precip</th>\n",
       "      <th>week_10_precip</th>\n",
       "      <th>...</th>\n",
       "      <th>LC_Type1_mode</th>\n",
       "      <th>Square_ID</th>\n",
       "      <th>wetland_distance</th>\n",
       "      <th>target_2015</th>\n",
       "      <th>chikawa_X</th>\n",
       "      <th>chikawa_Y</th>\n",
       "      <th>nsaje_X</th>\n",
       "      <th>nsaje_Y</th>\n",
       "      <th>from_chikawa_to_axis</th>\n",
       "      <th>from_nsaje_to_axis</th>\n",
       "    </tr>\n",
       "  </thead>\n",
       "  <tbody>\n",
       "    <tr>\n",
       "      <td>0</td>\n",
       "      <td>0.0</td>\n",
       "      <td>0.0</td>\n",
       "      <td>0.0</td>\n",
       "      <td>14.844025</td>\n",
       "      <td>14.552823</td>\n",
       "      <td>12.237766</td>\n",
       "      <td>57.451361</td>\n",
       "      <td>30.127047</td>\n",
       "      <td>30.449468</td>\n",
       "      <td>1.521829</td>\n",
       "      <td>...</td>\n",
       "      <td>9</td>\n",
       "      <td>4e3c3896-14ce-11ea-bce5-f49634744a41</td>\n",
       "      <td>15953.465740</td>\n",
       "      <td>0.0</td>\n",
       "      <td>34.7741</td>\n",
       "      <td>-16.1958</td>\n",
       "      <td>35.2533</td>\n",
       "      <td>-16.9206</td>\n",
       "      <td>4.602924e+06</td>\n",
       "      <td>143886.494791</td>\n",
       "    </tr>\n",
       "    <tr>\n",
       "      <td>1</td>\n",
       "      <td>0.0</td>\n",
       "      <td>0.0</td>\n",
       "      <td>0.0</td>\n",
       "      <td>14.844025</td>\n",
       "      <td>14.552823</td>\n",
       "      <td>12.237766</td>\n",
       "      <td>57.451361</td>\n",
       "      <td>30.127047</td>\n",
       "      <td>30.449468</td>\n",
       "      <td>1.521829</td>\n",
       "      <td>...</td>\n",
       "      <td>9</td>\n",
       "      <td>4e3c3897-14ce-11ea-bce5-f49634744a41</td>\n",
       "      <td>16265.216010</td>\n",
       "      <td>0.0</td>\n",
       "      <td>34.7741</td>\n",
       "      <td>-16.1958</td>\n",
       "      <td>35.2533</td>\n",
       "      <td>-16.9206</td>\n",
       "      <td>4.602037e+06</td>\n",
       "      <td>144476.923418</td>\n",
       "    </tr>\n",
       "    <tr>\n",
       "      <td>2</td>\n",
       "      <td>0.0</td>\n",
       "      <td>0.0</td>\n",
       "      <td>0.0</td>\n",
       "      <td>14.844025</td>\n",
       "      <td>14.552823</td>\n",
       "      <td>12.237766</td>\n",
       "      <td>57.451361</td>\n",
       "      <td>30.127047</td>\n",
       "      <td>30.449468</td>\n",
       "      <td>1.521829</td>\n",
       "      <td>...</td>\n",
       "      <td>9</td>\n",
       "      <td>4e3c3898-14ce-11ea-bce5-f49634744a41</td>\n",
       "      <td>16645.902409</td>\n",
       "      <td>0.0</td>\n",
       "      <td>34.7741</td>\n",
       "      <td>-16.1958</td>\n",
       "      <td>35.2533</td>\n",
       "      <td>-16.9206</td>\n",
       "      <td>4.601150e+06</td>\n",
       "      <td>145070.726844</td>\n",
       "    </tr>\n",
       "    <tr>\n",
       "      <td>3</td>\n",
       "      <td>0.0</td>\n",
       "      <td>0.0</td>\n",
       "      <td>0.0</td>\n",
       "      <td>14.844025</td>\n",
       "      <td>14.552823</td>\n",
       "      <td>12.237766</td>\n",
       "      <td>57.451361</td>\n",
       "      <td>30.127047</td>\n",
       "      <td>30.449468</td>\n",
       "      <td>1.521829</td>\n",
       "      <td>...</td>\n",
       "      <td>10</td>\n",
       "      <td>4e3c3899-14ce-11ea-bce5-f49634744a41</td>\n",
       "      <td>17087.784546</td>\n",
       "      <td>0.0</td>\n",
       "      <td>34.7741</td>\n",
       "      <td>-16.1958</td>\n",
       "      <td>35.2533</td>\n",
       "      <td>-16.9206</td>\n",
       "      <td>4.600264e+06</td>\n",
       "      <td>145667.863794</td>\n",
       "    </tr>\n",
       "    <tr>\n",
       "      <td>4</td>\n",
       "      <td>0.0</td>\n",
       "      <td>0.0</td>\n",
       "      <td>0.0</td>\n",
       "      <td>14.844025</td>\n",
       "      <td>14.552823</td>\n",
       "      <td>12.237766</td>\n",
       "      <td>57.451361</td>\n",
       "      <td>30.127047</td>\n",
       "      <td>30.449468</td>\n",
       "      <td>1.521829</td>\n",
       "      <td>...</td>\n",
       "      <td>10</td>\n",
       "      <td>4e3c389a-14ce-11ea-bce5-f49634744a41</td>\n",
       "      <td>17589.245651</td>\n",
       "      <td>0.0</td>\n",
       "      <td>34.7741</td>\n",
       "      <td>-16.1958</td>\n",
       "      <td>35.2533</td>\n",
       "      <td>-16.9206</td>\n",
       "      <td>4.599377e+06</td>\n",
       "      <td>146268.293433</td>\n",
       "    </tr>\n",
       "  </tbody>\n",
       "</table>\n",
       "<p>5 rows × 31 columns</p>\n",
       "</div>"
      ],
      "text/plain": [
       "   week_1_precip  week_2_precip  week_3_precip  week_4_precip  week_5_precip  \\\n",
       "0            0.0            0.0            0.0      14.844025      14.552823   \n",
       "1            0.0            0.0            0.0      14.844025      14.552823   \n",
       "2            0.0            0.0            0.0      14.844025      14.552823   \n",
       "3            0.0            0.0            0.0      14.844025      14.552823   \n",
       "4            0.0            0.0            0.0      14.844025      14.552823   \n",
       "\n",
       "   week_6_precip  week_7_precip  week_8_precip  week_9_precip  week_10_precip  \\\n",
       "0      12.237766      57.451361      30.127047      30.449468        1.521829   \n",
       "1      12.237766      57.451361      30.127047      30.449468        1.521829   \n",
       "2      12.237766      57.451361      30.127047      30.449468        1.521829   \n",
       "3      12.237766      57.451361      30.127047      30.449468        1.521829   \n",
       "4      12.237766      57.451361      30.127047      30.449468        1.521829   \n",
       "\n",
       "   ...  LC_Type1_mode                             Square_ID  wetland_distance  \\\n",
       "0  ...              9  4e3c3896-14ce-11ea-bce5-f49634744a41      15953.465740   \n",
       "1  ...              9  4e3c3897-14ce-11ea-bce5-f49634744a41      16265.216010   \n",
       "2  ...              9  4e3c3898-14ce-11ea-bce5-f49634744a41      16645.902409   \n",
       "3  ...             10  4e3c3899-14ce-11ea-bce5-f49634744a41      17087.784546   \n",
       "4  ...             10  4e3c389a-14ce-11ea-bce5-f49634744a41      17589.245651   \n",
       "\n",
       "   target_2015  chikawa_X  chikawa_Y  nsaje_X  nsaje_Y  from_chikawa_to_axis  \\\n",
       "0          0.0    34.7741   -16.1958  35.2533 -16.9206          4.602924e+06   \n",
       "1          0.0    34.7741   -16.1958  35.2533 -16.9206          4.602037e+06   \n",
       "2          0.0    34.7741   -16.1958  35.2533 -16.9206          4.601150e+06   \n",
       "3          0.0    34.7741   -16.1958  35.2533 -16.9206          4.600264e+06   \n",
       "4          0.0    34.7741   -16.1958  35.2533 -16.9206          4.599377e+06   \n",
       "\n",
       "   from_nsaje_to_axis  \n",
       "0       143886.494791  \n",
       "1       144476.923418  \n",
       "2       145070.726844  \n",
       "3       145667.863794  \n",
       "4       146268.293433  \n",
       "\n",
       "[5 rows x 31 columns]"
      ]
     },
     "execution_count": 75,
     "metadata": {},
     "output_type": "execute_result"
    }
   ],
   "source": [
    "data.head()"
   ]
  },
  {
   "cell_type": "code",
   "execution_count": 77,
   "metadata": {},
   "outputs": [
    {
     "data": {
      "text/html": [
       "<div>\n",
       "<style scoped>\n",
       "    .dataframe tbody tr th:only-of-type {\n",
       "        vertical-align: middle;\n",
       "    }\n",
       "\n",
       "    .dataframe tbody tr th {\n",
       "        vertical-align: top;\n",
       "    }\n",
       "\n",
       "    .dataframe thead th {\n",
       "        text-align: right;\n",
       "    }\n",
       "</style>\n",
       "<table border=\"1\" class=\"dataframe\">\n",
       "  <thead>\n",
       "    <tr style=\"text-align: right;\">\n",
       "      <th></th>\n",
       "      <th>week_1_precip</th>\n",
       "      <th>week_2_precip</th>\n",
       "      <th>week_3_precip</th>\n",
       "      <th>week_4_precip</th>\n",
       "      <th>week_5_precip</th>\n",
       "      <th>week_6_precip</th>\n",
       "      <th>week_7_precip</th>\n",
       "      <th>week_8_precip</th>\n",
       "      <th>week_9_precip</th>\n",
       "      <th>week_10_precip</th>\n",
       "      <th>...</th>\n",
       "      <th>LC_Type1_mode</th>\n",
       "      <th>Square_ID</th>\n",
       "      <th>wetland_distance</th>\n",
       "      <th>target_2015</th>\n",
       "      <th>chikawa_X</th>\n",
       "      <th>chikawa_Y</th>\n",
       "      <th>nsaje_X</th>\n",
       "      <th>nsaje_Y</th>\n",
       "      <th>from_chikawa_to_axis</th>\n",
       "      <th>from_nsaje_to_axis</th>\n",
       "    </tr>\n",
       "  </thead>\n",
       "  <tbody>\n",
       "    <tr>\n",
       "      <td>0</td>\n",
       "      <td>0.0</td>\n",
       "      <td>0.0</td>\n",
       "      <td>0.0</td>\n",
       "      <td>14.844025</td>\n",
       "      <td>14.552823</td>\n",
       "      <td>12.237766</td>\n",
       "      <td>57.451361</td>\n",
       "      <td>30.127047</td>\n",
       "      <td>30.449468</td>\n",
       "      <td>1.521829</td>\n",
       "      <td>...</td>\n",
       "      <td>9</td>\n",
       "      <td>4e3c3896-14ce-11ea-bce5-f49634744a41</td>\n",
       "      <td>15953.465740</td>\n",
       "      <td>0.0</td>\n",
       "      <td>34.7741</td>\n",
       "      <td>-16.1958</td>\n",
       "      <td>35.2533</td>\n",
       "      <td>-16.9206</td>\n",
       "      <td>4.602924e+06</td>\n",
       "      <td>143886.494791</td>\n",
       "    </tr>\n",
       "    <tr>\n",
       "      <td>1</td>\n",
       "      <td>0.0</td>\n",
       "      <td>0.0</td>\n",
       "      <td>0.0</td>\n",
       "      <td>14.844025</td>\n",
       "      <td>14.552823</td>\n",
       "      <td>12.237766</td>\n",
       "      <td>57.451361</td>\n",
       "      <td>30.127047</td>\n",
       "      <td>30.449468</td>\n",
       "      <td>1.521829</td>\n",
       "      <td>...</td>\n",
       "      <td>9</td>\n",
       "      <td>4e3c3897-14ce-11ea-bce5-f49634744a41</td>\n",
       "      <td>16265.216010</td>\n",
       "      <td>0.0</td>\n",
       "      <td>34.7741</td>\n",
       "      <td>-16.1958</td>\n",
       "      <td>35.2533</td>\n",
       "      <td>-16.9206</td>\n",
       "      <td>4.602037e+06</td>\n",
       "      <td>144476.923418</td>\n",
       "    </tr>\n",
       "    <tr>\n",
       "      <td>2</td>\n",
       "      <td>0.0</td>\n",
       "      <td>0.0</td>\n",
       "      <td>0.0</td>\n",
       "      <td>14.844025</td>\n",
       "      <td>14.552823</td>\n",
       "      <td>12.237766</td>\n",
       "      <td>57.451361</td>\n",
       "      <td>30.127047</td>\n",
       "      <td>30.449468</td>\n",
       "      <td>1.521829</td>\n",
       "      <td>...</td>\n",
       "      <td>9</td>\n",
       "      <td>4e3c3898-14ce-11ea-bce5-f49634744a41</td>\n",
       "      <td>16645.902409</td>\n",
       "      <td>0.0</td>\n",
       "      <td>34.7741</td>\n",
       "      <td>-16.1958</td>\n",
       "      <td>35.2533</td>\n",
       "      <td>-16.9206</td>\n",
       "      <td>4.601150e+06</td>\n",
       "      <td>145070.726844</td>\n",
       "    </tr>\n",
       "    <tr>\n",
       "      <td>3</td>\n",
       "      <td>0.0</td>\n",
       "      <td>0.0</td>\n",
       "      <td>0.0</td>\n",
       "      <td>14.844025</td>\n",
       "      <td>14.552823</td>\n",
       "      <td>12.237766</td>\n",
       "      <td>57.451361</td>\n",
       "      <td>30.127047</td>\n",
       "      <td>30.449468</td>\n",
       "      <td>1.521829</td>\n",
       "      <td>...</td>\n",
       "      <td>10</td>\n",
       "      <td>4e3c3899-14ce-11ea-bce5-f49634744a41</td>\n",
       "      <td>17087.784546</td>\n",
       "      <td>0.0</td>\n",
       "      <td>34.7741</td>\n",
       "      <td>-16.1958</td>\n",
       "      <td>35.2533</td>\n",
       "      <td>-16.9206</td>\n",
       "      <td>4.600264e+06</td>\n",
       "      <td>145667.863794</td>\n",
       "    </tr>\n",
       "    <tr>\n",
       "      <td>4</td>\n",
       "      <td>0.0</td>\n",
       "      <td>0.0</td>\n",
       "      <td>0.0</td>\n",
       "      <td>14.844025</td>\n",
       "      <td>14.552823</td>\n",
       "      <td>12.237766</td>\n",
       "      <td>57.451361</td>\n",
       "      <td>30.127047</td>\n",
       "      <td>30.449468</td>\n",
       "      <td>1.521829</td>\n",
       "      <td>...</td>\n",
       "      <td>10</td>\n",
       "      <td>4e3c389a-14ce-11ea-bce5-f49634744a41</td>\n",
       "      <td>17589.245651</td>\n",
       "      <td>0.0</td>\n",
       "      <td>34.7741</td>\n",
       "      <td>-16.1958</td>\n",
       "      <td>35.2533</td>\n",
       "      <td>-16.9206</td>\n",
       "      <td>4.599377e+06</td>\n",
       "      <td>146268.293433</td>\n",
       "    </tr>\n",
       "  </tbody>\n",
       "</table>\n",
       "<p>5 rows × 31 columns</p>\n",
       "</div>"
      ],
      "text/plain": [
       "   week_1_precip  week_2_precip  week_3_precip  week_4_precip  week_5_precip  \\\n",
       "0            0.0            0.0            0.0      14.844025      14.552823   \n",
       "1            0.0            0.0            0.0      14.844025      14.552823   \n",
       "2            0.0            0.0            0.0      14.844025      14.552823   \n",
       "3            0.0            0.0            0.0      14.844025      14.552823   \n",
       "4            0.0            0.0            0.0      14.844025      14.552823   \n",
       "\n",
       "   week_6_precip  week_7_precip  week_8_precip  week_9_precip  week_10_precip  \\\n",
       "0      12.237766      57.451361      30.127047      30.449468        1.521829   \n",
       "1      12.237766      57.451361      30.127047      30.449468        1.521829   \n",
       "2      12.237766      57.451361      30.127047      30.449468        1.521829   \n",
       "3      12.237766      57.451361      30.127047      30.449468        1.521829   \n",
       "4      12.237766      57.451361      30.127047      30.449468        1.521829   \n",
       "\n",
       "   ...  LC_Type1_mode                             Square_ID  wetland_distance  \\\n",
       "0  ...              9  4e3c3896-14ce-11ea-bce5-f49634744a41      15953.465740   \n",
       "1  ...              9  4e3c3897-14ce-11ea-bce5-f49634744a41      16265.216010   \n",
       "2  ...              9  4e3c3898-14ce-11ea-bce5-f49634744a41      16645.902409   \n",
       "3  ...             10  4e3c3899-14ce-11ea-bce5-f49634744a41      17087.784546   \n",
       "4  ...             10  4e3c389a-14ce-11ea-bce5-f49634744a41      17589.245651   \n",
       "\n",
       "   target_2015  chikawa_X  chikawa_Y  nsaje_X  nsaje_Y  from_chikawa_to_axis  \\\n",
       "0          0.0    34.7741   -16.1958  35.2533 -16.9206          4.602924e+06   \n",
       "1          0.0    34.7741   -16.1958  35.2533 -16.9206          4.602037e+06   \n",
       "2          0.0    34.7741   -16.1958  35.2533 -16.9206          4.601150e+06   \n",
       "3          0.0    34.7741   -16.1958  35.2533 -16.9206          4.600264e+06   \n",
       "4          0.0    34.7741   -16.1958  35.2533 -16.9206          4.599377e+06   \n",
       "\n",
       "   from_nsaje_to_axis  \n",
       "0       143886.494791  \n",
       "1       144476.923418  \n",
       "2       145070.726844  \n",
       "3       145667.863794  \n",
       "4       146268.293433  \n",
       "\n",
       "[5 rows x 31 columns]"
      ]
     },
     "execution_count": 77,
     "metadata": {},
     "output_type": "execute_result"
    }
   ],
   "source": [
    "data.head()"
   ]
  },
  {
   "cell_type": "code",
   "execution_count": 78,
   "metadata": {},
   "outputs": [],
   "source": [
    "features=features=[ 'week_1_precip','week_2_precip','week_3_precip', 'week_4_precip', 'week_5_precip',\n",
    "          'week_6_precip', 'week_7_precip', 'week_8_precip', 'week_9_precip',\n",
    "          'week_10_precip', 'week_11_precip', 'week_12_precip', 'week_13_precip',\n",
    "          'week_14_precip', 'week_15_precip', 'week_16_precip', 'week_17_precip','Typographic_position_index'\n",
    "         ]"
   ]
  },
  {
   "cell_type": "code",
   "execution_count": 79,
   "metadata": {},
   "outputs": [],
   "source": [
    "def aggregate_features(x,col_name):\n",
    "    x[\"max_\"+col_name]=x[col_name].apply(np.max)\n",
    "    x[\"mean_\"+col_name]=x[col_name].apply(np.mean)\n",
    "    x[\"median_\"+col_name]=x[col_name].apply(np.median)\n",
    "    return x  "
   ]
  },
  {
   "cell_type": "code",
   "execution_count": 80,
   "metadata": {},
   "outputs": [
    {
     "name": "stderr",
     "output_type": "stream",
     "text": [
      "100%|██████████████████████████████████████████████████████████████████████████████████| 18/18 [01:04<00:00,  3.58s/it]\n"
     ]
    }
   ],
   "source": [
    "for col_name in tqdm(features):\n",
    "    data=aggregate_features(data,col_name)"
   ]
  },
  {
   "cell_type": "code",
   "execution_count": 81,
   "metadata": {},
   "outputs": [],
   "source": [
    "train=data[data.target_2015.notnull()].reset_index(drop=True)\n",
    "test=data[data.target_2015.isna()].reset_index(drop=True)"
   ]
  },
  {
   "cell_type": "code",
   "execution_count": 82,
   "metadata": {},
   "outputs": [
    {
     "data": {
      "text/plain": [
       "<matplotlib.axes._subplots.AxesSubplot at 0x1bb7faba0c8>"
      ]
     },
     "execution_count": 82,
     "metadata": {},
     "output_type": "execute_result"
    },
    {
     "data": {
      "image/png": "[encoded data removed]",
      "text/plain": [
       "<Figure size 1440x720 with 2 Axes>"
      ]
     },
     "metadata": {
      "needs_background": "light"
     },
     "output_type": "display_data"
    }
   ],
   "source": [
    "#correlelogram- plot heatmap to find correlation among features\n",
    "corrmat =train.corr()\n",
    "f, ax = plt.subplots(figsize=(20,10))\n",
    "sns.heatmap(train[['wetland_distance','target_2015','elevation','Typographic_position_index','from_chikawa_to_axis','from_nsaje_to_axis','nsaje_X','nsaje_Y','chikawa_X','chikawa_Y']].corr(), square=True, cmap=plt.cm.RdYlGn, annot=True, fmt=\".2f\")\n",
    "#wk1, wk2, wk3 -same multicollinearity"
   ]
  },
  {
   "cell_type": "code",
   "execution_count": 83,
   "metadata": {},
   "outputs": [],
   "source": [
    "test=test.drop(['chikawa_X','chikawa_Y','nsaje_X','nsaje_Y'], axis=1)\n",
    "train=train.drop(['chikawa_X','chikawa_Y','nsaje_X','nsaje_Y'], axis=1)"
   ]
  },
  {
   "cell_type": "code",
   "execution_count": 84,
   "metadata": {},
   "outputs": [],
   "source": [
    "test_id = test['Square_ID']"
   ]
  },
  {
   "cell_type": "code",
   "execution_count": 85,
   "metadata": {},
   "outputs": [],
   "source": [
    "train = train.drop(['Square_ID'], axis=1)"
   ]
  },
  {
   "cell_type": "code",
   "execution_count": 86,
   "metadata": {},
   "outputs": [],
   "source": [
    "test = test.drop(['Square_ID'], axis=1)"
   ]
  },
  {
   "cell_type": "code",
   "execution_count": 87,
   "metadata": {},
   "outputs": [],
   "source": [
    "test = test.drop('target_2015', axis=1)"
   ]
  },
  {
   "cell_type": "code",
   "execution_count": 88,
   "metadata": {},
   "outputs": [],
   "source": [
    "def threshold(x):\n",
    "    if x >= 0.40:\n",
    "        return 1\n",
    "    else:\n",
    "        return 0\n",
    "train['target_2015'] = train['target_2015'].apply(threshold)"
   ]
  },
  {
   "cell_type": "code",
   "execution_count": 89,
   "metadata": {},
   "outputs": [],
   "source": [
    "X = train.drop(['target_2015'], axis=1)\n",
    "y = train['target_2015']"
   ]
  },
  {
   "cell_type": "code",
   "execution_count": 90,
   "metadata": {},
   "outputs": [],
   "source": [
    "\n",
    "X_fold, X_val, y_fold, y_val = train_test_split(X, y, test_size=0.25, random_state=1913)"
   ]
  },
  {
   "cell_type": "code",
   "execution_count": 91,
   "metadata": {},
   "outputs": [],
   "source": [
    "\n",
    "param = { \n",
    "         'objective':'binary','sub_sample':0.9,\n",
    "         'max_depth': -1,\n",
    "         'learning_rate': 0.028,\n",
    "         \"boosting\": \"gbdt\",\n",
    "         \"feature_fraction\": 0.9,\n",
    "         \"metric\": 'auc',\n",
    "        'seed':1899,\n",
    "         \"verbose\": -0}"
   ]
  },
  {
   "cell_type": "code",
   "execution_count": 92,
   "metadata": {},
   "outputs": [
    {
     "name": "stdout",
     "output_type": "stream",
     "text": [
      "Training until validation scores don't improve for 300 rounds\n",
      "[100]\ttraining's auc: 0.997729\n",
      "Did not meet early stopping. Best iteration is:\n",
      "[100]\ttraining's auc: 0.997729\n",
      "err:  0.06253673585064151\n",
      "Training until validation scores don't improve for 300 rounds\n",
      "[100]\ttraining's auc: 0.997715\n",
      "Did not meet early stopping. Best iteration is:\n",
      "[100]\ttraining's auc: 0.997715\n",
      "err:  0.0643286109654622\n",
      "Training until validation scores don't improve for 300 rounds\n",
      "[100]\ttraining's auc: 0.997513\n",
      "Did not meet early stopping. Best iteration is:\n",
      "[100]\ttraining's auc: 0.997513\n",
      "err:  0.06782778661781924\n",
      "Training until validation scores don't improve for 300 rounds\n",
      "[100]\ttraining's auc: 0.997411\n",
      "Did not meet early stopping. Best iteration is:\n",
      "[100]\ttraining's auc: 0.997411\n",
      "err:  0.06488736238461043\n",
      "Training until validation scores don't improve for 300 rounds\n",
      "[100]\ttraining's auc: 0.997746\n",
      "Did not meet early stopping. Best iteration is:\n",
      "[100]\ttraining's auc: 0.997746\n",
      "err:  0.0632516403079379\n",
      "Training until validation scores don't improve for 300 rounds\n",
      "[100]\ttraining's auc: 0.997841\n",
      "Did not meet early stopping. Best iteration is:\n",
      "[100]\ttraining's auc: 0.997841\n",
      "err:  0.06573836006753113\n",
      "Training until validation scores don't improve for 300 rounds\n",
      "[100]\ttraining's auc: 0.997748\n",
      "Did not meet early stopping. Best iteration is:\n",
      "[100]\ttraining's auc: 0.997748\n",
      "err:  0.06922244700465717\n",
      "Training until validation scores don't improve for 300 rounds\n",
      "[100]\ttraining's auc: 0.997647\n",
      "Did not meet early stopping. Best iteration is:\n",
      "[100]\ttraining's auc: 0.997647\n",
      "err:  0.058419503885879395\n",
      "Training until validation scores don't improve for 300 rounds\n",
      "[100]\ttraining's auc: 0.997943\n",
      "Did not meet early stopping. Best iteration is:\n",
      "[100]\ttraining's auc: 0.997943\n",
      "err:  0.07293219000976313\n",
      "Training until validation scores don't improve for 300 rounds\n",
      "[100]\ttraining's auc: 0.997734\n",
      "Did not meet early stopping. Best iteration is:\n",
      "[100]\ttraining's auc: 0.997734\n",
      "err:  0.0684682520265809\n",
      "Training until validation scores don't improve for 300 rounds\n",
      "[100]\ttraining's auc: 0.9974\n",
      "Did not meet early stopping. Best iteration is:\n",
      "[100]\ttraining's auc: 0.9974\n",
      "err:  0.05625091190413932\n",
      "Training until validation scores don't improve for 300 rounds\n",
      "[100]\ttraining's auc: 0.997637\n",
      "Did not meet early stopping. Best iteration is:\n",
      "[100]\ttraining's auc: 0.997637\n",
      "err:  0.06286299272417789\n",
      "Training until validation scores don't improve for 300 rounds\n",
      "[100]\ttraining's auc: 0.997806\n",
      "Did not meet early stopping. Best iteration is:\n",
      "[100]\ttraining's auc: 0.997806\n",
      "err:  0.06620959912866739\n",
      "Training until validation scores don't improve for 300 rounds\n",
      "[100]\ttraining's auc: 0.997958\n",
      "Did not meet early stopping. Best iteration is:\n",
      "[100]\ttraining's auc: 0.997958\n",
      "err:  0.06796996239306231\n",
      "Training until validation scores don't improve for 300 rounds\n",
      "[100]\ttraining's auc: 0.997314\n",
      "Did not meet early stopping. Best iteration is:\n",
      "[100]\ttraining's auc: 0.997314\n",
      "err:  0.060626051912462106\n",
      "Training until validation scores don't improve for 300 rounds\n",
      "[100]\ttraining's auc: 0.997861\n",
      "Did not meet early stopping. Best iteration is:\n",
      "[100]\ttraining's auc: 0.997861\n",
      "err:  0.06637846281296264\n"
     ]
    }
   ],
   "source": [
    "\n",
    "errcb=[]\n",
    "y_pred_totcb=[]\n",
    "fold=RepeatedStratifiedKFold(n_splits=4, random_state=1992, n_repeats=4)\n",
    "\n",
    "for train_index, test_index in fold.split(X_fold,y_fold):\n",
    "    X_train, X_test = X.iloc[train_index], X.iloc[test_index]\n",
    "    y_train, y_test = y[train_index], y[test_index]\n",
    "    m=LGBMClassifier(**param)\n",
    "    m.fit(X_train,y_train,eval_set=[(X_train,y_train)],verbose=100, early_stopping_rounds=300)\n",
    "    preds=m.predict_proba(X_test)\n",
    "    print(\"err: \",log_loss(y_test,preds))\n",
    "    errcb.append(log_loss(y_test,preds))\n",
    "    p = m.predict_proba(test)[:,1]\n",
    "    y_pred_totcb.append(p)"
   ]
  },
  {
   "cell_type": "code",
   "execution_count": 93,
   "metadata": {},
   "outputs": [
    {
     "data": {
      "text/plain": [
       "0.06486942937477216"
      ]
     },
     "execution_count": 93,
     "metadata": {},
     "output_type": "execute_result"
    }
   ],
   "source": [
    "np.mean(errcb)"
   ]
  },
  {
   "cell_type": "markdown",
   "metadata": {},
   "source": [
    "# FEATURE IMPORTANCE"
   ]
  },
  {
   "cell_type": "code",
   "execution_count": 94,
   "metadata": {},
   "outputs": [
    {
     "data": {
      "image/png": "[encoded data removed]",
      "text/plain": [
       "<Figure size 1440x720 with 1 Axes>"
      ]
     },
     "metadata": {
      "needs_background": "light"
     },
     "output_type": "display_data"
    }
   ],
   "source": [
    "fea_imp = pd.DataFrame({'imp':m.feature_importances_, 'col': X.columns})\n",
    "fea_imp = fea_imp.sort_values(['imp', 'col'], ascending=[True, False]).iloc[-30:]\n",
    "_ = fea_imp.plot(kind='barh', x='col', y='imp', figsize=(20, 10))\n",
    "plt.savefig('catboost_feature_importance.png')    "
   ]
  },
  {
   "cell_type": "code",
   "execution_count": 95,
   "metadata": {},
   "outputs": [],
   "source": [
    "d = {\"Square_ID\": samp['Square_ID'], 'target_2015':np.mean(y_pred_totcb,0)}\n",
    "test_predictions = pd.DataFrame(data=d)\n",
    "test_predictions = test_predictions[[\"Square_ID\", 'target_2015']]"
   ]
  },
  {
   "cell_type": "code",
   "execution_count": 96,
   "metadata": {},
   "outputs": [
    {
     "data": {
      "text/html": [
       "<div>\n",
       "<style scoped>\n",
       "    .dataframe tbody tr th:only-of-type {\n",
       "        vertical-align: middle;\n",
       "    }\n",
       "\n",
       "    .dataframe tbody tr th {\n",
       "        vertical-align: top;\n",
       "    }\n",
       "\n",
       "    .dataframe thead th {\n",
       "        text-align: right;\n",
       "    }\n",
       "</style>\n",
       "<table border=\"1\" class=\"dataframe\">\n",
       "  <thead>\n",
       "    <tr style=\"text-align: right;\">\n",
       "      <th></th>\n",
       "      <th>Square_ID</th>\n",
       "      <th>target_2015</th>\n",
       "    </tr>\n",
       "  </thead>\n",
       "  <tbody>\n",
       "    <tr>\n",
       "      <td>0</td>\n",
       "      <td>4e3c3896-14ce-11ea-bce5-f49634744a41</td>\n",
       "      <td>0.007417</td>\n",
       "    </tr>\n",
       "    <tr>\n",
       "      <td>1</td>\n",
       "      <td>4e3c3897-14ce-11ea-bce5-f49634744a41</td>\n",
       "      <td>0.007723</td>\n",
       "    </tr>\n",
       "    <tr>\n",
       "      <td>2</td>\n",
       "      <td>4e3c3898-14ce-11ea-bce5-f49634744a41</td>\n",
       "      <td>0.008884</td>\n",
       "    </tr>\n",
       "    <tr>\n",
       "      <td>3</td>\n",
       "      <td>4e3c3899-14ce-11ea-bce5-f49634744a41</td>\n",
       "      <td>0.005711</td>\n",
       "    </tr>\n",
       "    <tr>\n",
       "      <td>4</td>\n",
       "      <td>4e3c389a-14ce-11ea-bce5-f49634744a41</td>\n",
       "      <td>0.005732</td>\n",
       "    </tr>\n",
       "  </tbody>\n",
       "</table>\n",
       "</div>"
      ],
      "text/plain": [
       "                              Square_ID  target_2015\n",
       "0  4e3c3896-14ce-11ea-bce5-f49634744a41     0.007417\n",
       "1  4e3c3897-14ce-11ea-bce5-f49634744a41     0.007723\n",
       "2  4e3c3898-14ce-11ea-bce5-f49634744a41     0.008884\n",
       "3  4e3c3899-14ce-11ea-bce5-f49634744a41     0.005711\n",
       "4  4e3c389a-14ce-11ea-bce5-f49634744a41     0.005732"
      ]
     },
     "execution_count": 96,
     "metadata": {},
     "output_type": "execute_result"
    }
   ],
   "source": [
    "test_predictions.head()"
   ]
  },
  {
   "cell_type": "code",
   "execution_count": 97,
   "metadata": {},
   "outputs": [],
   "source": [
    "test_predictions.to_csv('MODELF.csv', index=False)"
   ]
  }
 ],
 "metadata": {
  "kernelspec": {
   "display_name": "Python 3",
   "language": "python",
   "name": "python3"
  },
  "language_info": {
   "codemirror_mode": {
    "name": "ipython",
    "version": 3
   },
   "file_extension": ".py",
   "mimetype": "text/x-python",
   "name": "python",
   "nbconvert_exporter": "python",
   "pygments_lexer": "ipython3",
   "version": "3.7.4"
  }
 },
 "nbformat": 4,
 "nbformat_minor": 4
}
